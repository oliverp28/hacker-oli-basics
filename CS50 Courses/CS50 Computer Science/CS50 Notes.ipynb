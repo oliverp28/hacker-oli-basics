{
 "cells": [
  {
   "cell_type": "markdown",
   "id": "bc090b7e-788f-455c-8e44-64651116afa7",
   "metadata": {},
   "source": [
    "# CSHarvardX CS50x CS50's Introduction to Computer Science\n",
    "Link: https://www.edx.org/learn/computer-science/harvard-university-cs50-s-introduction-to-computer-science?linked_from=autocomplete-prequery&c=autocomplete-prequery&position=1 (08.12.23)"
   ]
  },
  {
   "cell_type": "markdown",
   "id": "792944eb-410d-4ee2-a051-2f499b18f57f",
   "metadata": {},
   "source": [
    "## Week 0"
   ]
  },
  {
   "cell_type": "markdown",
   "id": "9fe2ad78-ed63-4b92-b2a7-2e015cb3e19c",
   "metadata": {},
   "source": [
    "Computer use the binary language. For instance either a light bulb is on or off.\n",
    "\n",
    "**Binary Digit:**\n",
    "\n",
    "0 1 => 2^x for each digit\n",
    "\n",
    "Examples: 000 (0); 001 (1); 010 (2); 011 (3); 100 (4); 101 (5); 111 (7) "
   ]
  },
  {
   "cell_type": "markdown",
   "id": "b7918ac4-d74c-4427-bf10-8e2aea08a089",
   "metadata": {},
   "source": [
    "A byte consits of eight bits. => 8 Bytes can represent 256 Bits (2^8)"
   ]
  },
  {
   "cell_type": "markdown",
   "id": "47023c43-5363-473f-862d-2ca08a1cf305",
   "metadata": {},
   "source": [
    "**ASCII American Standard Code for Informational Interchange:**\n",
    "\n",
    "    -> represent typical letters, numbers, symbols etc\n",
    "    -> The ABC starts at 65\n",
    "    -> A = 65; B = 66; ...; Z = 91\n",
    "    --> Numbers starts at 48 => 0 = 48\n",
    "    --> small letters starts at a = 97\n",
    "    \n",
    "    Link: https://www.ascii-code.com/de (08.12.23)"
   ]
  },
  {
   "cell_type": "markdown",
   "id": "090a17d9-26d2-4be1-ba3d-3163b6ca1f97",
   "metadata": {},
   "source": [
    "**Unicode**\n",
    "Capter all digits and symbols from all languages like Emojis and so on\n",
    "--> 21 Bit 2^21 possible characters\n",
    "\n",
    "4036991106 => 😂"
   ]
  },
  {
   "cell_type": "markdown",
   "id": "2797c793-aecb-41e9-8e45-985c399ad537",
   "metadata": {},
   "source": [
    "**RGB** Red Green Blue\n",
    "        \n",
    "    --> describes how much Red Green and Blue is represented by a pixel\n",
    "    --> 77 73 32 => is a darker beige\n",
    "    --> the way how pictures that are represented by a monitor work"
   ]
  },
  {
   "cell_type": "markdown",
   "id": "c4797866-25f1-4071-9b41-1af457d027fc",
   "metadata": {},
   "source": [
    "**Algorithm**\n",
    "    \n",
    "    -> step by step explaination to solve a problem for instance to sort words alphabetical\n",
    "    \n",
    "    --> Input => Algorithm => Output\n",
    "    \n",
    "A method for implementation:\n",
    "    \n",
    "    -> Searching a name in a phone book like Malan\n",
    "\n",
    "    > open the book in half\n",
    "    > Is Malan in the right or left half\n",
    "    > take the right half and repeat until you have one paper left\n",
    "        \n",
    "    > Pseudocode:\n",
    "    \n",
    "    Pick up the phone book\n",
    "    Open to the middle of the phone book\n",
    "    Look at page\n",
    "    If person is on page\n",
    "        Call person\n",
    "    Else if person is earlier in book\n",
    "        Open to middle of left half of book\n",
    "        Go back to line 3\n",
    "    Else if person is later in book\n",
    "        Open to middle of right half of book\n",
    "        Go back to line 3\n",
    "    Else\n",
    "        Quit\n",
    "    "
   ]
  },
  {
   "cell_type": "markdown",
   "id": "8a313e1c-6d14-4911-9853-fa46b098c6a0",
   "metadata": {},
   "source": [
    "**Scratch: https://scratch.mit.edu/projects/editor/?tutorial=getStarted**"
   ]
  },
  {
   "cell_type": "markdown",
   "id": "e2887fc2-c309-43db-b45b-d3dd8b848ef9",
   "metadata": {},
   "source": [
    "## Week 1"
   ]
  },
  {
   "cell_type": "markdown",
   "id": "73851dac-9c43-4eb5-8ade-01881dabc520",
   "metadata": {},
   "source": []
  },
  {
   "cell_type": "markdown",
   "id": "f8e94b0e-7ef1-447f-a9c8-a3c0b0962623",
   "metadata": {},
   "source": []
  },
  {
   "cell_type": "markdown",
   "id": "48360f02-4778-452d-acdd-78db1d24470f",
   "metadata": {},
   "source": []
  },
  {
   "cell_type": "markdown",
   "id": "1f86037e-7b41-42a1-a527-ec6166a960e1",
   "metadata": {},
   "source": []
  },
  {
   "cell_type": "markdown",
   "id": "aa10123c-3a68-4a4d-94bb-45623536a334",
   "metadata": {},
   "source": []
  },
  {
   "cell_type": "markdown",
   "id": "69aba31e-3517-4366-ae8c-58ac61917eee",
   "metadata": {},
   "source": []
  }
 ],
 "metadata": {
  "kernelspec": {
   "display_name": "Python 3 (ipykernel)",
   "language": "python",
   "name": "python3"
  },
  "language_info": {
   "codemirror_mode": {
    "name": "ipython",
    "version": 3
   },
   "file_extension": ".py",
   "mimetype": "text/x-python",
   "name": "python",
   "nbconvert_exporter": "python",
   "pygments_lexer": "ipython3",
   "version": "3.11.5"
  }
 },
 "nbformat": 4,
 "nbformat_minor": 5
}
