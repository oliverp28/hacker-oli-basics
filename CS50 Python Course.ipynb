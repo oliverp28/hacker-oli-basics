{
 "cells": [
  {
   "cell_type": "markdown",
   "id": "f4c57570-1dd0-482d-a44c-ce30fe7fbd87",
   "metadata": {},
   "source": [
    "# CS50 Python Course"
   ]
  },
  {
   "cell_type": "markdown",
   "id": "b8ca8c0a-1151-4216-82c9-0e20440f3703",
   "metadata": {},
   "source": [
    "    Video-Titel: Harvard CS50’s Introduction to Programming with Python – Full University Course\n",
    "    Channel: freeCodeCapm.org\n",
    "    Youtube-Link: https://www.youtube.com/watch?v=nLRL_NcnK-4&list=LL&index=50 (Link-Date: 20.09.23)"
   ]
  },
  {
   "cell_type": "markdown",
   "id": "a4e0f9f6-6b00-41e1-84bc-2b90eb30641d",
   "metadata": {},
   "source": [
    "### Functions and Variables"
   ]
  },
  {
   "cell_type": "markdown",
   "id": "18014e74-07df-4203-801d-3ce3a41715e9",
   "metadata": {},
   "source": [
    "code hello.py --> starts to open a new file hello.py if you type it in vscode in the terminal"
   ]
  },
  {
   "cell_type": "markdown",
   "id": "5ec4b677-449d-4f63-bc1a-252b90138f36",
   "metadata": {},
   "source": [
    "terminal --> command line interface"
   ]
  },
  {
   "cell_type": "markdown",
   "id": "c0ebf6d0-1d0f-46f1-af5a-8e907dccb6e3",
   "metadata": {},
   "source": [
    "python hello.py --> starts the program hello.py with the interpreter python"
   ]
  },
  {
   "cell_type": "code",
   "execution_count": 5,
   "id": "c66b2303-76e3-4988-b79b-0562fa832f3e",
   "metadata": {},
   "outputs": [
    {
     "name": "stdout",
     "output_type": "stream",
     "text": [
      "hello, word\n"
     ]
    }
   ],
   "source": [
    "print(\"hello, word\")"
   ]
  },
  {
   "cell_type": "markdown",
   "id": "9f06c4e5-89a1-4c0e-afb8-2203bd5790ad",
   "metadata": {},
   "source": [
    "print     --> function to print arguments\n",
    "\n",
    "arguments --> input that is given to a function\n",
    "\n",
    "side effekt --> shows output\n",
    "\n",
    "bugs    --> problems in code that need to be solved"
   ]
  },
  {
   "cell_type": "code",
   "execution_count": 19,
   "id": "a3cf74a4-f181-404b-b0d3-5b25d19d64b9",
   "metadata": {},
   "outputs": [
    {
     "name": "stdin",
     "output_type": "stream",
     "text": [
      "Whats your name?  David\n"
     ]
    },
    {
     "name": "stdout",
     "output_type": "stream",
     "text": [
      "hello, David\n"
     ]
    }
   ],
   "source": [
    "input(\"Whats your name? \")\n",
    "print(\"hello, David\") #hardcode"
   ]
  },
  {
   "cell_type": "markdown",
   "id": "ce1d2514-0fdd-436b-84d1-96344e2a0a5a",
   "metadata": {},
   "source": [
    "variables --> stores value like a container\n",
    "            \n",
    "     => string\n",
    "     => int\n",
    "     => float\n",
    "     => lists\n",
    "     => dictionaries"
   ]
  },
  {
   "cell_type": "code",
   "execution_count": 20,
   "id": "3b96ec1f-1328-4dcc-a3a7-dbd9793fcdb5",
   "metadata": {},
   "outputs": [
    {
     "name": "stdin",
     "output_type": "stream",
     "text": [
      "Whats your name?  Josh\n"
     ]
    },
    {
     "name": "stdout",
     "output_type": "stream",
     "text": [
      "hello, \n",
      "Josh\n"
     ]
    }
   ],
   "source": [
    "name = input(\"Whats your name? \")\n",
    "print(\"hello, \")\n",
    "print(name)"
   ]
  },
  {
   "cell_type": "markdown",
   "id": "281548cc-30cc-4270-a960-1b31afbfaf6f",
   "metadata": {},
   "source": [
    "comments --> \"#\" shows the interpreter to ignore all the text behind the sign\n",
    "        \n",
    "        ==> makes code easier to read\n",
    "        ==> posibility to structure the code with comments and add the python code later"
   ]
  },
  {
   "cell_type": "code",
   "execution_count": 21,
   "id": "e5126f0d-e5f3-4ab2-b1f0-2a05a742e370",
   "metadata": {},
   "outputs": [
    {
     "name": "stdin",
     "output_type": "stream",
     "text": [
      "Whats your name?  Josh\n"
     ]
    },
    {
     "name": "stdout",
     "output_type": "stream",
     "text": [
      "hello, \n",
      "Josh\n"
     ]
    }
   ],
   "source": [
    "# ask user for their name\n",
    "name = input(\"Whats your name? \")\n",
    "\n",
    "# say hello to user\n",
    "print(\"hello, \")\n",
    "print(name)"
   ]
  },
  {
   "cell_type": "code",
   "execution_count": 25,
   "id": "9344f7b0-ca66-4c57-987a-658c9fa691da",
   "metadata": {},
   "outputs": [
    {
     "name": "stdin",
     "output_type": "stream",
     "text": [
      "Whats your name?  Josh\n"
     ]
    },
    {
     "name": "stdout",
     "output_type": "stream",
     "text": [
      "hello, Josh\n"
     ]
    }
   ],
   "source": [
    "# ask user for their name\n",
    "name = input(\"Whats your name? \")\n",
    "\n",
    "# say hello to user\n",
    "print(\"hello, \" + name) # \"+\" concatenate multiple strings"
   ]
  },
  {
   "cell_type": "code",
   "execution_count": 26,
   "id": "eefaea1d-35b5-4931-99d3-b136d6d1ee7a",
   "metadata": {},
   "outputs": [
    {
     "name": "stdin",
     "output_type": "stream",
     "text": [
      "Whats your name?  Josh\n"
     ]
    },
    {
     "name": "stdout",
     "output_type": "stream",
     "text": [
      "hello, Josh\n"
     ]
    }
   ],
   "source": [
    "# ask user for their name\n",
    "name = input(\"Whats your name? \")\n",
    "\n",
    "# say hello to user\n",
    "print(\"hello,\", name) #print gets to arguments and autofill a space between"
   ]
  },
  {
   "cell_type": "markdown",
   "id": "5920e062-5ec9-45ef-bbe5-4fb2da3ffe5e",
   "metadata": {},
   "source": [
    "#### docs.python.org/3/library is the official documentation for syntax"
   ]
  },
  {
   "cell_type": "markdown",
   "id": "c0552edb-f3c7-49e8-9bed-5e1a18c46dad",
   "metadata": {},
   "source": [
    "documentation of print:\n",
    "\n",
    "    print(*objects, sep=' ', end='\\n', file=sys.stdout, flush=False)\n",
    "    \n",
    "        - *objects means the print function can take every amount of arguments\n",
    "        - sep=' ' means if you pass multiple arguments all will separated with a space \n",
    "        - end='\\n' creates a new line like the key enter"
   ]
  },
  {
   "cell_type": "code",
   "execution_count": 28,
   "id": "14d51463-c499-4d24-9aa0-cbeeba9b8908",
   "metadata": {},
   "outputs": [
    {
     "name": "stdin",
     "output_type": "stream",
     "text": [
      "Whats your name?  David\n"
     ]
    },
    {
     "name": "stdout",
     "output_type": "stream",
     "text": [
      "hello, David\n"
     ]
    }
   ],
   "source": [
    "# ask user for their name\n",
    "name = input(\"Whats your name? \")\n",
    "\n",
    "# say hello to user\n",
    "print(\"hello, \", end=\"\") # removes the new line\n",
    "print(name)"
   ]
  },
  {
   "cell_type": "code",
   "execution_count": 31,
   "id": "b18625db-2b21-442e-9732-6d7aa1ff668a",
   "metadata": {},
   "outputs": [
    {
     "name": "stdin",
     "output_type": "stream",
     "text": [
      "Whats your name?  David\n"
     ]
    },
    {
     "name": "stdout",
     "output_type": "stream",
     "text": [
      "hello,???David\n"
     ]
    }
   ],
   "source": [
    "# ask user for their name\n",
    "name = input(\"Whats your name? \")\n",
    "\n",
    "# say hello to user\n",
    "print(\"hello,\", name, sep=\"???\") # uses ??? to separate the parameters"
   ]
  },
  {
   "cell_type": "markdown",
   "id": "02963e0f-42d8-4b73-a308-0bfca500bc75",
   "metadata": {},
   "source": [
    "cornercase: what if you want to print \"\""
   ]
  },
  {
   "cell_type": "code",
   "execution_count": 34,
   "id": "ceb8724b-922d-436f-9f04-09a0cc31f8e3",
   "metadata": {},
   "outputs": [
    {
     "name": "stdout",
     "output_type": "stream",
     "text": [
      "hello, \"friend\"\n"
     ]
    }
   ],
   "source": [
    "#say hello to user\n",
    "print('hello, \"friend\"')# use a different syntax but be consistent"
   ]
  },
  {
   "cell_type": "code",
   "execution_count": 36,
   "id": "d2e0d98f-c304-4035-9063-a7419cfba029",
   "metadata": {},
   "outputs": [
    {
     "name": "stdout",
     "output_type": "stream",
     "text": [
      "hello, \"friend\"\n"
     ]
    }
   ],
   "source": [
    "#say hello to user\n",
    "print(\"hello, \\\"friend\\\"\")# changes the quotes to literal quotes"
   ]
  },
  {
   "cell_type": "code",
   "execution_count": 39,
   "id": "191ca43f-9512-4ee7-b1cd-5ac1c367ea65",
   "metadata": {},
   "outputs": [
    {
     "name": "stdin",
     "output_type": "stream",
     "text": [
      "Whats your name?  David\n"
     ]
    },
    {
     "name": "stdout",
     "output_type": "stream",
     "text": [
      "hello, David\n"
     ]
    }
   ],
   "source": [
    "# ask user for their name\n",
    "name = input(\"Whats your name? \")\n",
    "\n",
    "# say hello to user\n",
    "print(f\"hello, {name}\")# formates automatically"
   ]
  },
  {
   "cell_type": "code",
   "execution_count": 42,
   "id": "a6f436cc-a202-400c-93e6-546fa0884e0c",
   "metadata": {},
   "outputs": [
    {
     "name": "stdin",
     "output_type": "stream",
     "text": [
      "Whats your name?     David   \n"
     ]
    },
    {
     "name": "stdout",
     "output_type": "stream",
     "text": [
      "hello, David\n"
     ]
    }
   ],
   "source": [
    "# ask user for their name\n",
    "name = input(\"Whats your name? \")\n",
    "\n",
    "# remove whitespace from str\n",
    "name = name.strip()# .strip is a built-in function\n",
    "\n",
    "# say hello to user\n",
    "print(f\"hello, {name}\")"
   ]
  },
  {
   "cell_type": "code",
   "execution_count": 46,
   "id": "f1aea039-adec-4623-b911-cd6b7042c24d",
   "metadata": {},
   "outputs": [
    {
     "name": "stdin",
     "output_type": "stream",
     "text": [
      "Whats your name?      david lane\n"
     ]
    },
    {
     "name": "stdout",
     "output_type": "stream",
     "text": [
      "hello, David lane\n"
     ]
    }
   ],
   "source": [
    "# ask user for their name\n",
    "name = input(\"Whats your name? \")\n",
    "\n",
    "# remove whitespace from str\n",
    "name = name.strip()# .strip is a built-in function\n",
    "\n",
    "# capitalize user's name\n",
    "name = name.capitalize()# just capitalizes the first word\n",
    "\n",
    "# say hello to user\n",
    "print(f\"hello, {name}\")"
   ]
  },
  {
   "cell_type": "code",
   "execution_count": 47,
   "id": "79d1f42b-a65a-4f5b-a002-4b1fe800a1cd",
   "metadata": {},
   "outputs": [
    {
     "name": "stdin",
     "output_type": "stream",
     "text": [
      "Whats your name?     david lane\n"
     ]
    },
    {
     "name": "stdout",
     "output_type": "stream",
     "text": [
      "hello, David Lane\n"
     ]
    }
   ],
   "source": [
    "# ask user for their name\n",
    "name = input(\"Whats your name? \")\n",
    "\n",
    "# remove whitespace from str\n",
    "name = name.strip()\n",
    "\n",
    "# capitalize user's name\n",
    "name = name.title()\n",
    "\n",
    "# say hello to user\n",
    "print(f\"hello, {name}\")"
   ]
  },
  {
   "cell_type": "code",
   "execution_count": 48,
   "id": "b68896b7-8f72-41c5-83e3-78a6a56eab77",
   "metadata": {},
   "outputs": [
    {
     "name": "stdin",
     "output_type": "stream",
     "text": [
      "Whats your name?     david lane  \n"
     ]
    },
    {
     "name": "stdout",
     "output_type": "stream",
     "text": [
      "hello, David Lane\n"
     ]
    }
   ],
   "source": [
    "# ask user for their name\n",
    "name = input(\"Whats your name? \")\n",
    "\n",
    "# remove whitespace from str and capitalize user's name\n",
    "name = name.strip().title()\n",
    "\n",
    "# say hello to user\n",
    "print(f\"hello, {name}\")"
   ]
  },
  {
   "cell_type": "markdown",
   "id": "a159fa35-4903-4499-8862-4e809136fad0",
   "metadata": {},
   "source": [
    "#### shortest version but less easier to read"
   ]
  },
  {
   "cell_type": "code",
   "execution_count": 49,
   "id": "8bdbffa9-5333-4bf7-9266-42b73cb2b135",
   "metadata": {},
   "outputs": [
    {
     "name": "stdin",
     "output_type": "stream",
     "text": [
      "Whats your name?    david lane\n"
     ]
    },
    {
     "name": "stdout",
     "output_type": "stream",
     "text": [
      "hello, David Lane\n"
     ]
    }
   ],
   "source": [
    "# ask user for their name\n",
    "name = input(\"Whats your name? \").strip().title()\n",
    "\n",
    "# say hello to user\n",
    "print(f\"hello, {name}\")"
   ]
  },
  {
   "cell_type": "markdown",
   "id": "0b5c3648-3560-43c9-bdce-23e64c2f2078",
   "metadata": {},
   "source": [
    "### go further"
   ]
  },
  {
   "cell_type": "code",
   "execution_count": 50,
   "id": "991c22f1-c76b-400c-a5b7-8be879f46f77",
   "metadata": {},
   "outputs": [
    {
     "name": "stdin",
     "output_type": "stream",
     "text": [
      "Whats your name?  david lane\n"
     ]
    },
    {
     "name": "stdout",
     "output_type": "stream",
     "text": [
      "hello, David\n"
     ]
    }
   ],
   "source": [
    "# ask user for their name\n",
    "name = input(\"Whats your name? \").strip().title()\n",
    "\n",
    "# split user's name into first name and last name\n",
    "first, last = name.split(\" \")\n",
    "\n",
    "\n",
    "# say hello to user\n",
    "print(f\"hello, {first}\")"
   ]
  },
  {
   "cell_type": "markdown",
   "id": "b6d33373-ee65-4bfc-b927-3ce09ce94c30",
   "metadata": {},
   "source": [
    "## interactive mode"
   ]
  },
  {
   "cell_type": "markdown",
   "id": "20af0548-8887-4048-a4d4-8c57a68a941a",
   "metadata": {},
   "source": [
    "--> method to execute code faster and automatically\n",
    "\n",
    "    open the terminal in vscode\n",
    "    maximize the window\n",
    "    type \"python\"\n",
    "    write python code without creating a file"
   ]
  },
  {
   "cell_type": "markdown",
   "id": "67af1a58-e97f-43a9-9b5e-1d41d0f71dc9",
   "metadata": {},
   "source": [
    "### int"
   ]
  },
  {
   "cell_type": "markdown",
   "id": "26ff8eb3-c6bf-4e5b-90ab-ce26a63cc612",
   "metadata": {},
   "source": [
    "All numbers without a comma"
   ]
  },
  {
   "cell_type": "code",
   "execution_count": 52,
   "id": "9c8e430d-b79a-4125-b557-d052ec6ff6bc",
   "metadata": {},
   "outputs": [
    {
     "name": "stdout",
     "output_type": "stream",
     "text": [
      "3\n"
     ]
    }
   ],
   "source": [
    "x = 1\n",
    "y = 2\n",
    "\n",
    "z = x + y\n",
    "\n",
    "print(z)"
   ]
  },
  {
   "cell_type": "code",
   "execution_count": 54,
   "id": "7cf92be9-d86e-48cf-8577-23a8aab3a047",
   "metadata": {},
   "outputs": [
    {
     "name": "stdin",
     "output_type": "stream",
     "text": [
      "Whats x?  1\n",
      "Whats y?  2\n"
     ]
    },
    {
     "name": "stdout",
     "output_type": "stream",
     "text": [
      "12\n"
     ]
    }
   ],
   "source": [
    "x = input(\"Whats x? \")\n",
    "\n",
    "y = input(\"Whats y? \")\n",
    "\n",
    "z = x + y\n",
    "\n",
    "print(z)"
   ]
  },
  {
   "cell_type": "markdown",
   "id": "0db19b17-5375-4b4e-9cf9-43175a12fb59",
   "metadata": {},
   "source": [
    "--> in this case the input is just a concatenated text with a string like \"1\" + \"2\" -> \"12\""
   ]
  },
  {
   "cell_type": "code",
   "execution_count": 55,
   "id": "279c91e8-300c-4b5b-9acb-0f012c6384da",
   "metadata": {},
   "outputs": [
    {
     "name": "stdin",
     "output_type": "stream",
     "text": [
      "Whats x?  1\n",
      "Whats y?  2\n"
     ]
    },
    {
     "name": "stdout",
     "output_type": "stream",
     "text": [
      "3\n"
     ]
    }
   ],
   "source": [
    "x = input(\"Whats x? \")\n",
    "\n",
    "y = input(\"Whats y? \")\n",
    "\n",
    "z = int(x) + int(y) # if input str looks like a number it converts into a integer\n",
    "\n",
    "print(z)"
   ]
  },
  {
   "cell_type": "code",
   "execution_count": 56,
   "id": "bdfa7637-0cfc-4e4e-94ea-69856787625f",
   "metadata": {},
   "outputs": [
    {
     "name": "stdin",
     "output_type": "stream",
     "text": [
      "Whats x?  1\n",
      "Whats y?  2\n"
     ]
    },
    {
     "name": "stdout",
     "output_type": "stream",
     "text": [
      "3\n"
     ]
    }
   ],
   "source": [
    "x = int(input(\"Whats x? \"))\n",
    "\n",
    "y = int(input(\"Whats y? \"))\n",
    "\n",
    "print(x + y)"
   ]
  },
  {
   "cell_type": "code",
   "execution_count": 57,
   "id": "7c2bcfc4-ff24-4cbd-81b5-99997aac3bec",
   "metadata": {},
   "outputs": [
    {
     "name": "stdin",
     "output_type": "stream",
     "text": [
      "Whats x?  1\n",
      "Whats y?  2\n"
     ]
    },
    {
     "name": "stdout",
     "output_type": "stream",
     "text": [
      "3\n"
     ]
    }
   ],
   "source": [
    "print(int(input(\"Whats x? \")) + int(input(\"Whats y? \")))"
   ]
  },
  {
   "cell_type": "markdown",
   "id": "813b3a9a-b504-4124-9f41-69652e1a73aa",
   "metadata": {},
   "source": [
    "### float"
   ]
  },
  {
   "cell_type": "markdown",
   "id": "3d435fdf-db66-4241-98e5-a5c5ec70bec4",
   "metadata": {},
   "source": [
    "a number with a comma"
   ]
  },
  {
   "cell_type": "code",
   "execution_count": 58,
   "id": "b11ccca2-7e9f-481a-9177-93e9fdc03d2e",
   "metadata": {},
   "outputs": [
    {
     "name": "stdin",
     "output_type": "stream",
     "text": [
      "Whats x?  1.2\n",
      "Whats y?  2.8\n"
     ]
    },
    {
     "name": "stdout",
     "output_type": "stream",
     "text": [
      "4.0\n"
     ]
    }
   ],
   "source": [
    "x = float(input(\"Whats x? \"))\n",
    "\n",
    "y = float(input(\"Whats y? \"))\n",
    "\n",
    "print(x + y)"
   ]
  },
  {
   "cell_type": "markdown",
   "id": "13d6f569-e6c0-44a6-8d17-9cc75a5b7faa",
   "metadata": {},
   "source": [
    "### round() rounds a number"
   ]
  },
  {
   "cell_type": "markdown",
   "id": "54b2e897-113a-4153-95e4-d0f39c562456",
   "metadata": {},
   "source": [
    "    documentation:\n",
    "    \n",
    "    round(number[, ndigits])\n",
    "    \n",
    "    it rounds to the nearest integer\n",
    "    [] means you see something optional\n",
    "    -> round(number[, 4]) means it shows 4 digits after the comma and the 4th is rounded"
   ]
  },
  {
   "cell_type": "code",
   "execution_count": 64,
   "id": "f9facd26-ab58-4631-b0c9-1f6f3b50df78",
   "metadata": {},
   "outputs": [
    {
     "data": {
      "text/plain": [
       "1.2346"
      ]
     },
     "execution_count": 64,
     "metadata": {},
     "output_type": "execute_result"
    }
   ],
   "source": [
    "number = 1.234567\n",
    "round(number, 4)"
   ]
  },
  {
   "cell_type": "code",
   "execution_count": 65,
   "id": "21018d91-4d46-44ed-abe3-0a20b5e2bf42",
   "metadata": {},
   "outputs": [
    {
     "name": "stdin",
     "output_type": "stream",
     "text": [
      "Whats x?  1.2\n",
      "Whats y?  2.6\n"
     ]
    },
    {
     "name": "stdout",
     "output_type": "stream",
     "text": [
      "4\n"
     ]
    }
   ],
   "source": [
    "x = float(input(\"Whats x? \"))\n",
    "\n",
    "y = float(input(\"Whats y? \"))\n",
    "\n",
    "z = round(x + y)\n",
    "\n",
    "print(z)"
   ]
  },
  {
   "cell_type": "code",
   "execution_count": 67,
   "id": "b41a9133-19a9-4154-867e-318797a35a5d",
   "metadata": {},
   "outputs": [
    {
     "name": "stdin",
     "output_type": "stream",
     "text": [
      "Whats x?  999\n",
      "Whats y?  1\n"
     ]
    },
    {
     "name": "stdout",
     "output_type": "stream",
     "text": [
      "1000\n"
     ]
    }
   ],
   "source": [
    "x = float(input(\"Whats x? \"))\n",
    "\n",
    "y = float(input(\"Whats y? \"))\n",
    "\n",
    "z = round(x + y)\n",
    "\n",
    "print(z)\n",
    "# can use floats and rounding but doesnt have to"
   ]
  },
  {
   "cell_type": "code",
   "execution_count": 69,
   "id": "74177e7d-e79a-4f4c-9c7b-032702d28e17",
   "metadata": {},
   "outputs": [
    {
     "name": "stdin",
     "output_type": "stream",
     "text": [
      "Whats x?  999\n",
      "Whats y?  1\n"
     ]
    },
    {
     "name": "stdout",
     "output_type": "stream",
     "text": [
      "1,000\n"
     ]
    }
   ],
   "source": [
    "x = float(input(\"Whats x? \"))\n",
    "\n",
    "y = float(input(\"Whats y? \"))\n",
    "\n",
    "z = round(x + y)\n",
    "\n",
    "print(f\"{z:,}\")"
   ]
  },
  {
   "cell_type": "code",
   "execution_count": 70,
   "id": "d0c8edd0-c73b-4eae-8c1a-6e2970d9a0de",
   "metadata": {},
   "outputs": [
    {
     "name": "stdin",
     "output_type": "stream",
     "text": [
      "Whats x?  2\n",
      "Whats y?  3\n"
     ]
    },
    {
     "name": "stdout",
     "output_type": "stream",
     "text": [
      "0.6666666666666666\n"
     ]
    }
   ],
   "source": [
    "x = float(input(\"Whats x? \"))\n",
    "\n",
    "y = float(input(\"Whats y? \"))\n",
    "\n",
    "z = x / y\n",
    "\n",
    "print(z)"
   ]
  },
  {
   "cell_type": "markdown",
   "id": "b8d61ce1-82e5-4240-9ead-42c12ca1997d",
   "metadata": {},
   "source": [
    "floats are limited"
   ]
  },
  {
   "cell_type": "code",
   "execution_count": 71,
   "id": "98c0914f-63b1-432f-b3cb-8dc00bb88009",
   "metadata": {},
   "outputs": [
    {
     "name": "stdin",
     "output_type": "stream",
     "text": [
      "Whats x?  2\n",
      "Whats y?  3\n"
     ]
    },
    {
     "name": "stdout",
     "output_type": "stream",
     "text": [
      "0.67\n"
     ]
    }
   ],
   "source": [
    "x = float(input(\"Whats x? \"))\n",
    "\n",
    "y = float(input(\"Whats y? \"))\n",
    "\n",
    "z = round(x / y, 2)\n",
    "\n",
    "print(z)"
   ]
  },
  {
   "cell_type": "code",
   "execution_count": 72,
   "id": "24c6d4fe-d7d2-4b2d-b685-c6c58086d7e2",
   "metadata": {},
   "outputs": [
    {
     "name": "stdin",
     "output_type": "stream",
     "text": [
      "Whats x?  2\n",
      "Whats y?  3\n"
     ]
    },
    {
     "name": "stdout",
     "output_type": "stream",
     "text": [
      "0.67\n"
     ]
    }
   ],
   "source": [
    "x = float(input(\"Whats x? \"))\n",
    "\n",
    "y = float(input(\"Whats y? \"))\n",
    "\n",
    "z = x / y\n",
    "\n",
    "print(f\"{z:.2f}\")# defines the digits and rounds it"
   ]
  },
  {
   "cell_type": "code",
   "execution_count": 76,
   "id": "1a4648ce-1627-4be6-8b74-aef617a12fb5",
   "metadata": {},
   "outputs": [
    {
     "name": "stdin",
     "output_type": "stream",
     "text": [
      "Whats your name?  David\n"
     ]
    },
    {
     "name": "stdout",
     "output_type": "stream",
     "text": [
      "hello,  David\n"
     ]
    }
   ],
   "source": [
    "def hello(to):\n",
    "    print(\"hello, \", to) # i tab key means 4 spaces\n",
    "\n",
    "name = input(\"Whats your name? \")\n",
    "hello(name)"
   ]
  },
  {
   "cell_type": "code",
   "execution_count": 77,
   "id": "253a69a4-a994-4c23-a486-e1814dbf6427",
   "metadata": {},
   "outputs": [
    {
     "name": "stdout",
     "output_type": "stream",
     "text": [
      "hello,  world\n"
     ]
    },
    {
     "name": "stdin",
     "output_type": "stream",
     "text": [
      "Whats your name?  David\n"
     ]
    },
    {
     "name": "stdout",
     "output_type": "stream",
     "text": [
      "hello,  David\n"
     ]
    }
   ],
   "source": [
    "def hello(to=\"world\"): # if no argument is given than use \"world\"\n",
    "    print(\"hello, \", to) # i tab key means 4 spaces\n",
    "\n",
    "    \n",
    "hello()\n",
    "name = input(\"Whats your name? \")\n",
    "hello(name)"
   ]
  },
  {
   "cell_type": "markdown",
   "id": "89a60e44-e71a-45dd-877c-0e304124c6e7",
   "metadata": {},
   "source": [
    "a function has to exist before you use it"
   ]
  },
  {
   "cell_type": "code",
   "execution_count": 79,
   "id": "e4dcb8a6-7232-4b69-b90b-305916ddf417",
   "metadata": {},
   "outputs": [
    {
     "name": "stdin",
     "output_type": "stream",
     "text": [
      "Whats your name ? David\n"
     ]
    },
    {
     "name": "stdout",
     "output_type": "stream",
     "text": [
      "hello, David\n"
     ]
    }
   ],
   "source": [
    "def main():\n",
    "    name = input(\"Whats your name ?\")\n",
    "    hello(name)\n",
    "    \n",
    "def hello(to=\"world\"):\n",
    "    print(\"hello,\", to)\n",
    "    \n",
    "main() # to use a function you have to call it, def is not enaugh"
   ]
  },
  {
   "cell_type": "markdown",
   "id": "c4663e1b-62c4-49d2-a662-417f252552e2",
   "metadata": {},
   "source": [
    "Whatchout for the scope!"
   ]
  },
  {
   "cell_type": "code",
   "execution_count": 82,
   "id": "be640eae-3eca-45de-907a-82dac7c45349",
   "metadata": {},
   "outputs": [
    {
     "name": "stdin",
     "output_type": "stream",
     "text": [
      "Whats x?  2\n"
     ]
    },
    {
     "name": "stdout",
     "output_type": "stream",
     "text": [
      "x squared is 4\n"
     ]
    }
   ],
   "source": [
    "def main():\n",
    "    x = int(input(\"Whats x? \"))\n",
    "    print(\"x squared is\", square(x))\n",
    "    \n",
    "def square(n):\n",
    "    return n * n\n",
    "\n",
    "main()"
   ]
  },
  {
   "cell_type": "markdown",
   "id": "44ae7c29-610c-4306-808b-c5284a5e3a94",
   "metadata": {},
   "source": [
    "the output of square gives arguments to the main-function"
   ]
  },
  {
   "cell_type": "markdown",
   "id": "8a6aac06-e471-45e7-8f11-8d900a011107",
   "metadata": {},
   "source": [
    "## Conditionals"
   ]
  },
  {
   "cell_type": "markdown",
   "id": "62bf021c-4d6c-4d22-890d-7ace5ee4cce4",
   "metadata": {},
   "source": [
    "decide which line of code needs to be executed\n",
    "\n",
    "    > greater then\n",
    "    >= greater then or equal to\n",
    "    <= less than or equal to\n",
    "    == egual to\n",
    "    != not equal to"
   ]
  },
  {
   "cell_type": "markdown",
   "id": "bc4393b0-585f-498e-bbe2-95a45027b14b",
   "metadata": {},
   "source": [
    "**if-Statement**"
   ]
  },
  {
   "cell_type": "code",
   "execution_count": 84,
   "id": "c10cca8b-3061-4931-b8c3-a14a23076a20",
   "metadata": {},
   "outputs": [
    {
     "name": "stdin",
     "output_type": "stream",
     "text": [
      "Whats x?  1\n",
      "Whats y?  7\n"
     ]
    },
    {
     "name": "stdout",
     "output_type": "stream",
     "text": [
      "x is less than y\n"
     ]
    }
   ],
   "source": [
    "x = int(input(\"Whats x? \"))\n",
    "y = int(input(\"Whats y? \"))\n",
    "\n",
    "if x < y:\n",
    "    print(\"x is less than y\") # like a boolean true or false\n",
    "    \n",
    "if x > y:\n",
    "    print(\"x is greater than y\")\n",
    "    \n",
    "if x == y:\n",
    "    print(\"x is equal to y\")"
   ]
  },
  {
   "cell_type": "code",
   "execution_count": 85,
   "id": "f2b9f7a9-9589-4de4-af83-f0ac02a29e56",
   "metadata": {},
   "outputs": [
    {
     "name": "stdin",
     "output_type": "stream",
     "text": [
      "Whats x?  1\n",
      "Whats y?  7\n"
     ]
    },
    {
     "name": "stdout",
     "output_type": "stream",
     "text": [
      "x is less than y\n"
     ]
    }
   ],
   "source": [
    "x = int(input(\"Whats x? \"))\n",
    "y = int(input(\"Whats y? \"))\n",
    "\n",
    "if x < y:\n",
    "    print(\"x is less than y\") \n",
    "    \n",
    "elif x > y:\n",
    "    print(\"x is greater than y\")\n",
    "    \n",
    "elif x == y:\n",
    "    print(\"x is equal to y\")"
   ]
  },
  {
   "cell_type": "markdown",
   "id": "0a83e6af-595b-49e8-baad-afe545eeb0c7",
   "metadata": {},
   "source": [
    "**elif** will just asked if the answer to the first question is wrong,\n",
    "\n",
    "the program is faster and runs only for as long as necessary"
   ]
  },
  {
   "cell_type": "code",
   "execution_count": 87,
   "id": "1c3b1c22-7861-48ed-b375-5723dcfc5937",
   "metadata": {},
   "outputs": [
    {
     "name": "stdin",
     "output_type": "stream",
     "text": [
      "Whats x?  1\n",
      "Whats y?  7\n"
     ]
    },
    {
     "name": "stdout",
     "output_type": "stream",
     "text": [
      "x is less than y\n"
     ]
    }
   ],
   "source": [
    "x = int(input(\"Whats x? \"))\n",
    "y = int(input(\"Whats y? \"))\n",
    "\n",
    "if x < y:\n",
    "    print(\"x is less than y\") \n",
    "    \n",
    "elif x > y:\n",
    "    print(\"x is greater than y\")\n",
    "    \n",
    "else:\n",
    "    print(\"x is equal to y\") \n",
    "  "
   ]
  },
  {
   "cell_type": "markdown",
   "id": "bf1c7062-3e63-4d24-8a2d-538136c9cdf2",
   "metadata": {},
   "source": [
    "**else** is the last option if no question is answered\n",
    "\n",
    "==> improves the speed and efficiency"
   ]
  },
  {
   "cell_type": "code",
   "execution_count": 88,
   "id": "54de662b-682e-4ffc-a905-0ac10f699fb1",
   "metadata": {},
   "outputs": [
    {
     "name": "stdin",
     "output_type": "stream",
     "text": [
      "Whats x?  2\n",
      "Whats y?  1\n"
     ]
    },
    {
     "name": "stdout",
     "output_type": "stream",
     "text": [
      "x is not equal to y\n"
     ]
    }
   ],
   "source": [
    "x = int(input(\"Whats x? \"))\n",
    "y = int(input(\"Whats y? \"))\n",
    "\n",
    "if x < y or x > y:\n",
    "    print(\"x is not equal to y\")\n",
    "    \n",
    "else:\n",
    "    print(\"x is equal to y\")"
   ]
  },
  {
   "cell_type": "code",
   "execution_count": 89,
   "id": "08e2e53a-2f31-4a85-b5ae-aa7f63302693",
   "metadata": {},
   "outputs": [
    {
     "name": "stdin",
     "output_type": "stream",
     "text": [
      "Whats x?  1\n",
      "Whats y?  1\n"
     ]
    },
    {
     "name": "stdout",
     "output_type": "stream",
     "text": [
      "x is equal to y\n"
     ]
    }
   ],
   "source": [
    "x = int(input(\"Whats x? \"))\n",
    "y = int(input(\"Whats y? \"))\n",
    "\n",
    "if x != y:\n",
    "    print(\"x is not equal to y\")\n",
    "    \n",
    "else:\n",
    "    print(\"x is equal to y\")"
   ]
  },
  {
   "cell_type": "code",
   "execution_count": 90,
   "id": "f562f816-1a4c-49b3-ae97-328d4feb092c",
   "metadata": {},
   "outputs": [
    {
     "name": "stdin",
     "output_type": "stream",
     "text": [
      "Score:  80\n"
     ]
    },
    {
     "name": "stdout",
     "output_type": "stream",
     "text": [
      "Grade: B\n"
     ]
    }
   ],
   "source": [
    "score = int(input(\"Score: \"))\n",
    "\n",
    "if score >= 90 and score <= 100:\n",
    "    print(\"Grade: A\")\n",
    "elif score >= 80 and score < 90:\n",
    "    print(\"Grade: B\")\n",
    "elif score >= 70 and score < 80:\n",
    "    print(\"Grade: C\")\n",
    "elif score >= 60 and score < 70:\n",
    "    print(\"Grade: D\")\n",
    "else:\n",
    "    print(\"Grade: F\")"
   ]
  },
  {
   "cell_type": "code",
   "execution_count": 92,
   "id": "2d75e944-aa22-45b4-861f-c3230392b4fe",
   "metadata": {},
   "outputs": [
    {
     "name": "stdin",
     "output_type": "stream",
     "text": [
      "Score:  73\n"
     ]
    },
    {
     "name": "stdout",
     "output_type": "stream",
     "text": [
      "Grade: C\n"
     ]
    }
   ],
   "source": [
    "score = int(input(\"Score: \"))\n",
    "\n",
    "if score >= 90:\n",
    "    print(\"Grade: A\")\n",
    "elif score >= 80:\n",
    "    print(\"Grade: B\")\n",
    "elif score >= 70:\n",
    "    print(\"Grade: C\")\n",
    "elif score >= 60:\n",
    "    print(\"Grade: D\")\n",
    "else:\n",
    "    print(\"Grade: F\")"
   ]
  },
  {
   "cell_type": "markdown",
   "id": "95d96633-e8c7-4ca2-adc8-52faa81e01a4",
   "metadata": {},
   "source": [
    "### Modulo Operator"
   ]
  },
  {
   "cell_type": "markdown",
   "id": "6744a091-8a20-4d7a-9df3-8ee4363af8ad",
   "metadata": {},
   "source": [
    "**%** checks if the number is even,\n",
    "\n",
    "4 % 2 means 2 goes 2 times into 4 and their is no rest.\n",
    "\n",
    "5 % 2 means 2 goes 2 times into 5 and the rest is 1."
   ]
  },
  {
   "cell_type": "code",
   "execution_count": 96,
   "id": "5f8be7bc-59c4-4e70-a325-9ff7cf6d147b",
   "metadata": {},
   "outputs": [
    {
     "data": {
      "text/plain": [
       "1"
      ]
     },
     "execution_count": 96,
     "metadata": {},
     "output_type": "execute_result"
    }
   ],
   "source": [
    "5 % 2"
   ]
  },
  {
   "cell_type": "code",
   "execution_count": 95,
   "id": "491073e2-b344-465c-8993-9dea28fdc73b",
   "metadata": {},
   "outputs": [
    {
     "name": "stdin",
     "output_type": "stream",
     "text": [
      "Whats x?  5\n"
     ]
    },
    {
     "name": "stdout",
     "output_type": "stream",
     "text": [
      "Odd\n"
     ]
    }
   ],
   "source": [
    "x = int(input(\"Whats x? \"))\n",
    "\n",
    "if x % 2 == 0:\n",
    "    print(\"Even\")\n",
    "else:\n",
    "    print(\"Odd\")"
   ]
  },
  {
   "cell_type": "code",
   "execution_count": 99,
   "id": "9e9b9927-7038-4b0c-87fc-a45223bec162",
   "metadata": {},
   "outputs": [
    {
     "name": "stdin",
     "output_type": "stream",
     "text": [
      "Whats x?  10\n"
     ]
    },
    {
     "name": "stdout",
     "output_type": "stream",
     "text": [
      "Even\n"
     ]
    }
   ],
   "source": [
    "def main():\n",
    "    x = int(input(\"Whats x? \"))\n",
    "    if is_even(x):\n",
    "        print(\"Even\")\n",
    "    else:\n",
    "        print(\"Odd\")\n",
    "        \n",
    "def is_even(n): # n like number\n",
    "    if n % 2 == 0:\n",
    "        return True # boolean operator\n",
    "    else:\n",
    "        return False\n",
    "\n",
    "main()"
   ]
  },
  {
   "cell_type": "markdown",
   "id": "06b29987-cae7-49fa-bd3c-d77c63d8812e",
   "metadata": {},
   "source": [
    "Popular variant: Write the code and even if functions are needed that do not yet exist, write the code as if the function already exists. Define the function later."
   ]
  },
  {
   "cell_type": "markdown",
   "id": "e891c4e5-b7f5-4548-8ec7-9239736aca05",
   "metadata": {},
   "source": [
    "Pythonic: Way that is used by most python-programmers"
   ]
  },
  {
   "cell_type": "code",
   "execution_count": 1,
   "id": "917423d0-76a4-4f53-a6c9-1cf1cc5f1aa7",
   "metadata": {},
   "outputs": [
    {
     "name": "stdin",
     "output_type": "stream",
     "text": [
      "Whats x?  2\n"
     ]
    },
    {
     "name": "stdout",
     "output_type": "stream",
     "text": [
      "Even\n"
     ]
    }
   ],
   "source": [
    "def main():\n",
    "    x = int(input(\"Whats x? \"))\n",
    "    if is_even(x):\n",
    "        print(\"Even\")\n",
    "    else:\n",
    "        print(\"Odd\")\n",
    "        \n",
    "def is_even(n):\n",
    "    return True if n % 2 == 0 else False # pythonic\n",
    "\n",
    "main()"
   ]
  },
  {
   "cell_type": "code",
   "execution_count": 2,
   "id": "16b569e5-e39c-443d-8cff-e479af4ac3ff",
   "metadata": {},
   "outputs": [
    {
     "name": "stdin",
     "output_type": "stream",
     "text": [
      "Whats x?  3\n"
     ]
    },
    {
     "name": "stdout",
     "output_type": "stream",
     "text": [
      "Odd\n"
     ]
    }
   ],
   "source": [
    "def main():\n",
    "    x = int(input(\"Whats x? \"))\n",
    "    if is_even(x):\n",
    "        print(\"Even\")\n",
    "    else:\n",
    "        print(\"Odd\")\n",
    "        \n",
    "def is_even(n):\n",
    "    return n % 2 == 0 # parenthesis can be used to execute something first\n",
    "\n",
    "main()"
   ]
  },
  {
   "cell_type": "code",
   "execution_count": 10,
   "id": "9de864d0-3906-44f1-a2be-686cf8bbb0a1",
   "metadata": {},
   "outputs": [
    {
     "name": "stdin",
     "output_type": "stream",
     "text": [
      "Whats your name?  Harry\n"
     ]
    },
    {
     "name": "stdout",
     "output_type": "stream",
     "text": [
      "Gryffindor\n"
     ]
    }
   ],
   "source": [
    "name = input(\"Whats your name? \")\n",
    "\n",
    "if name == \"Harry\":\n",
    "    print(\"Gryffindor\")\n",
    "elif name == \"Hermione\":\n",
    "    print(\"GRyffindor\")\n",
    "elif name == \"Ron\":\n",
    "    print(\"Gryffindor\")\n",
    "elif name == \"Draco\":\n",
    "    print(\"Slytherin\")\n",
    "else:\n",
    "    print(\"Who? \")"
   ]
  },
  {
   "cell_type": "code",
   "execution_count": 11,
   "id": "d8556b72-72ab-4c5e-ae69-68fe47dc87d1",
   "metadata": {},
   "outputs": [
    {
     "name": "stdin",
     "output_type": "stream",
     "text": [
      "Whats your name?  Draco\n"
     ]
    },
    {
     "name": "stdout",
     "output_type": "stream",
     "text": [
      "Slytherin\n"
     ]
    }
   ],
   "source": [
    "name = input(\"Whats your name? \")\n",
    "\n",
    "if name == \"Harry\" or name == (\"Hermione\") or name == \"Ron\":\n",
    "    print(\"Gryffindor\")\n",
    "elif name == \"Draco\":\n",
    "    print(\"Slytherin\")\n",
    "else:\n",
    "    print(\"Who? \")"
   ]
  },
  {
   "cell_type": "code",
   "execution_count": 3,
   "id": "c48b92ba-e994-42d8-9ea2-f720ed79157d",
   "metadata": {
    "tags": []
   },
   "outputs": [
    {
     "name": "stdin",
     "output_type": "stream",
     "text": [
      "Whats your name?  Hermione\n"
     ]
    },
    {
     "name": "stdout",
     "output_type": "stream",
     "text": [
      "Gryffindor\n"
     ]
    }
   ],
   "source": [
    "name = input(\"Whats your name? \")\n",
    "\n",
    "match name: \n",
    "    case \"Harry\":\n",
    "        print(\"Gryffindor\")\n",
    "    case \"Hermione\":\n",
    "        print(\"Gryffindor\")\n",
    "    case \"Ron\":\n",
    "        print(\"Gryffindor\")\n",
    "    case \"Draco\":\n",
    "        print(\"Slytherin\")\n",
    "\n",
    "# therefore you need the newest python version -> 3.10 or newer\n",
    "# best practise to upgrade python-version with anaconda is reinstall"
   ]
  },
  {
   "cell_type": "code",
   "execution_count": 7,
   "id": "aa2a951c-9186-45d8-a6d7-6c262e42f115",
   "metadata": {},
   "outputs": [
    {
     "name": "stdin",
     "output_type": "stream",
     "text": [
      "Whats your name?  Albert\n"
     ]
    },
    {
     "name": "stdout",
     "output_type": "stream",
     "text": [
      "Who?\n"
     ]
    }
   ],
   "source": [
    "name = input(\"Whats your name? \")\n",
    "\n",
    "match name: \n",
    "    case \"Harry\" | \"Hermione\" | \"Ron\": # also possible\n",
    "        print(\"Gryffindor\")\n",
    "    case \"Draco\":\n",
    "        print(\"Slytherin\")\n",
    "    case _:\n",
    "        print(\"Who?\")"
   ]
  },
  {
   "cell_type": "markdown",
   "id": "f2217e58-b5a6-4d9a-b868-2dcbd8cd0a73",
   "metadata": {},
   "source": [
    "### Loops"
   ]
  },
  {
   "cell_type": "markdown",
   "id": "f870e74b-b0ae-4441-af2b-a6365647c76d",
   "metadata": {},
   "source": [
    "Ability to do something again and again."
   ]
  },
  {
   "cell_type": "code",
   "execution_count": 10,
   "id": "e5a04329-00b2-49a3-91a0-a59af851305a",
   "metadata": {},
   "outputs": [
    {
     "name": "stdout",
     "output_type": "stream",
     "text": [
      "meow\n",
      "meow\n",
      "meow\n"
     ]
    }
   ],
   "source": [
    "print(\"meow\")\n",
    "print(\"meow\")\n",
    "print(\"meow\")"
   ]
  },
  {
   "cell_type": "markdown",
   "id": "fefd6536-f15c-4813-a0ca-f6e67da384fc",
   "metadata": {},
   "source": [
    "##### While-Loop"
   ]
  },
  {
   "cell_type": "code",
   "execution_count": 15,
   "id": "b583bb2e-077f-41d6-8b3c-3d146bd005fa",
   "metadata": {},
   "outputs": [
    {
     "name": "stdout",
     "output_type": "stream",
     "text": [
      "2\n",
      "meow\n",
      "1\n",
      "meow\n",
      "0\n",
      "meow\n"
     ]
    }
   ],
   "source": [
    "i = 3\n",
    "while i != 0:\n",
    "    i -= 1 # i = i - 1\n",
    "    print(i)\n",
    "    print(\"meow\")"
   ]
  },
  {
   "cell_type": "code",
   "execution_count": 17,
   "id": "cff623b0-8c88-489b-b3ba-27b145a1b117",
   "metadata": {
    "tags": []
   },
   "outputs": [
    {
     "name": "stdout",
     "output_type": "stream",
     "text": [
      "1\n",
      "meow\n",
      "2\n",
      "meow\n",
      "3\n",
      "meow\n"
     ]
    }
   ],
   "source": [
    "i = 0\n",
    "while i < 3:\n",
    "    i += 1 # i = i + 1\n",
    "    print(i)\n",
    "    print(\"meow\")"
   ]
  },
  {
   "cell_type": "markdown",
   "id": "18941da0-b64f-456d-946a-6975afb0aacc",
   "metadata": {},
   "source": [
    "##### For-Loop"
   ]
  },
  {
   "cell_type": "markdown",
   "id": "37297daa-94b3-48da-85d5-227b5deffaaf",
   "metadata": {},
   "source": [
    "Uses lists which has the ability to contain values"
   ]
  },
  {
   "cell_type": "code",
   "execution_count": 19,
   "id": "4bef4400-fd7a-465c-b35c-b092dedc8b4f",
   "metadata": {
    "tags": []
   },
   "outputs": [
    {
     "name": "stdout",
     "output_type": "stream",
     "text": [
      "0\n",
      "meow\n",
      "1\n",
      "meow\n",
      "2\n",
      "meow\n"
     ]
    }
   ],
   "source": [
    "for i in [0, 1, 2]:\n",
    "    print(i)\n",
    "    print(\"meow\")"
   ]
  },
  {
   "cell_type": "code",
   "execution_count": 20,
   "id": "e78cae3b-849c-4c17-b32f-5f7ebbec7040",
   "metadata": {
    "tags": []
   },
   "outputs": [
    {
     "name": "stdout",
     "output_type": "stream",
     "text": [
      "meow\n",
      "meow\n",
      "meow\n"
     ]
    }
   ],
   "source": [
    "for i in range(3):\n",
    "    print(\"meow\") # easier way to work with big numbers without typing them"
   ]
  },
  {
   "cell_type": "code",
   "execution_count": 25,
   "id": "9f9f03ee-8e6a-4704-a2da-931ee3300fe7",
   "metadata": {
    "tags": []
   },
   "outputs": [
    {
     "name": "stdout",
     "output_type": "stream",
     "text": [
      "0\n",
      "meow\n",
      "1\n",
      "meow\n",
      "2\n",
      "meow\n",
      "3\n",
      "meow\n"
     ]
    }
   ],
   "source": [
    "for i in range(4): # pythonic way if you dont use a variable like i use _ instead\n",
    "    print(i)\n",
    "    print(\"meow\")"
   ]
  },
  {
   "cell_type": "code",
   "execution_count": 35,
   "id": "a75949c3-7e95-4c13-95ab-71c0d9eddce8",
   "metadata": {
    "tags": []
   },
   "outputs": [
    {
     "name": "stdout",
     "output_type": "stream",
     "text": [
      "meow\n",
      "meow\n",
      "meow\n"
     ]
    }
   ],
   "source": [
    "print(\"meow\\n\" * 3, end=\"\")"
   ]
  },
  {
   "cell_type": "code",
   "execution_count": 39,
   "id": "e0784f6f-ff58-4f86-970a-6a942ac1ea38",
   "metadata": {
    "tags": []
   },
   "outputs": [
    {
     "name": "stdin",
     "output_type": "stream",
     "text": [
      "Whats n?  -3\n",
      "Whats n?  0\n",
      "Whats n?  3\n"
     ]
    },
    {
     "name": "stdout",
     "output_type": "stream",
     "text": [
      "meow\n",
      "meow\n",
      "meow\n"
     ]
    }
   ],
   "source": [
    "while True: # way to check the users input until its correct\n",
    "    n = int(input(\"Whats n? \"))\n",
    "    if n <= 0:\n",
    "        continue # stay in the loop and ask again\n",
    "    else:\n",
    "        break # breaks out of the while loop\n",
    "        \n",
    "for _ in range(n):\n",
    "    print(\"meow\")"
   ]
  },
  {
   "cell_type": "code",
   "execution_count": 41,
   "id": "6e46c257-a8df-4674-827b-819294a09cc4",
   "metadata": {
    "tags": []
   },
   "outputs": [
    {
     "name": "stdin",
     "output_type": "stream",
     "text": [
      "Whats n?  2\n"
     ]
    },
    {
     "name": "stdout",
     "output_type": "stream",
     "text": [
      "meow\n",
      "meow\n"
     ]
    }
   ],
   "source": [
    "def main():\n",
    "    number = get_number()\n",
    "    meow(number)\n",
    "    \n",
    "def get_number():\n",
    "    while True:\n",
    "        n = int(input(\"Whats n? \"))\n",
    "        if n > 0:\n",
    "            break\n",
    "    return n\n",
    "\n",
    "def meow(n):\n",
    "    for _ in range(n):\n",
    "        print(\"meow\")\n",
    "        \n",
    "main()"
   ]
  },
  {
   "cell_type": "code",
   "execution_count": 45,
   "id": "1796ab94-ef32-4aa7-8cdd-19748ba517e9",
   "metadata": {
    "tags": []
   },
   "outputs": [
    {
     "name": "stdout",
     "output_type": "stream",
     "text": [
      "Hermione\n",
      "Harry\n",
      "Ron\n"
     ]
    }
   ],
   "source": [
    "students = [\"Hermione\", \"Harry\", \"Ron\"]\n",
    "\n",
    "print(students[0]) # print frist item\n",
    "print(students[1])\n",
    "print(students[2])"
   ]
  },
  {
   "cell_type": "code",
   "execution_count": 49,
   "id": "9566809d-3050-4cb3-a245-7f0fbb7f6542",
   "metadata": {
    "tags": []
   },
   "outputs": [
    {
     "name": "stdout",
     "output_type": "stream",
     "text": [
      "Hermione\n",
      "Harry\n",
      "Ron\n"
     ]
    }
   ],
   "source": [
    "students = [\"Hermione\", \"Harry\", \"Ron\"]\n",
    "\n",
    "for student in students:\n",
    "    print(student)"
   ]
  },
  {
   "cell_type": "code",
   "execution_count": 54,
   "id": "0ab2a863-cf74-472c-8af4-09d10114cfcc",
   "metadata": {
    "tags": []
   },
   "outputs": [
    {
     "name": "stdout",
     "output_type": "stream",
     "text": [
      "1 Hermione\n",
      "2 Harry\n",
      "3 Ron\n"
     ]
    }
   ],
   "source": [
    "students = [\"Hermione\", \"Harry\", \"Ron\"]\n",
    "\n",
    "for i in range(len(students)): # len tells you the length of a list\n",
    "    print(i + 1, students[i])"
   ]
  },
  {
   "cell_type": "markdown",
   "id": "f017e988-a84a-4973-aaa6-49b9a60b5b3d",
   "metadata": {},
   "source": [
    "#### dictionary"
   ]
  },
  {
   "cell_type": "code",
   "execution_count": 56,
   "id": "23d27637-1dcd-4c60-8607-4d25627c99c8",
   "metadata": {
    "tags": []
   },
   "outputs": [
    {
     "name": "stdout",
     "output_type": "stream",
     "text": [
      "Gryffindor\n"
     ]
    }
   ],
   "source": [
    "students = {\n",
    "    \"Hermione\": \"Gryffindor\", \n",
    "    \"Harry\": \"Gryffindor\",\n",
    "    \"Ron\": \"Gryffindor\",\n",
    "    \"Draco\": \"Slytherin\",\n",
    "}\n",
    "# datatype: dict\n",
    "print(students[\"Hermione\"])"
   ]
  },
  {
   "cell_type": "markdown",
   "id": "69d5e82f-2c4c-4f45-b376-dc48eac82101",
   "metadata": {},
   "source": [
    "A Python **dictionary** is like a dictionary in which you **associate words (keys) with their meanings (values)**. You can look up a word (key) to find its meaning (value). In contrast, a list is like a numbered list of elements where you access each element based on its position in the list without using keys."
   ]
  },
  {
   "cell_type": "code",
   "execution_count": 58,
   "id": "5f149b46-600d-43d8-9661-f38c26ee7ccb",
   "metadata": {
    "tags": []
   },
   "outputs": [
    {
     "name": "stdout",
     "output_type": "stream",
     "text": [
      "Hermione, Gryffindor\n",
      "Harry, Gryffindor\n",
      "Ron, Gryffindor\n",
      "Draco, Slytherin\n"
     ]
    }
   ],
   "source": [
    "students = {\n",
    "    \"Hermione\": \"Gryffindor\", \n",
    "    \"Harry\": \"Gryffindor\",\n",
    "    \"Ron\": \"Gryffindor\",\n",
    "    \"Draco\": \"Slytherin\",\n",
    "}\n",
    "\n",
    "for student in students:\n",
    "    print(student, students[student], sep=\", \")"
   ]
  },
  {
   "cell_type": "code",
   "execution_count": 65,
   "id": "6fe7378a-a7c8-4040-bf08-2162bdd91710",
   "metadata": {
    "tags": []
   },
   "outputs": [
    {
     "name": "stdout",
     "output_type": "stream",
     "text": [
      "Hermione, Gryffindor, Otter\n",
      "Harry, Gryffindor, Stag\n",
      "Ron, Gryffindor, Jack Russell terrier\n",
      "Draco, Slytherin, None\n"
     ]
    }
   ],
   "source": [
    "students = [\n",
    "    {\"name\": \"Hermione\", \"house\": \"Gryffindor\", \"patronus\": \"Otter\"}, # key = name, value = Hermione\n",
    "    {\"name\": \"Harry\", \"house\": \"Gryffindor\", \"patronus\": \"Stag\"},\n",
    "    {\"name\": \"Ron\", \"house\": \"Gryffindor\", \"patronus\": \"Jack Russell terrier\"},\n",
    "    {\"name\": \"Draco\", \"house\": \"Slytherin\", \"patronus\": None} # None is a Value with no Value\n",
    "]\n",
    "\n",
    "for student in students:\n",
    "    print(student[\"name\"], student[\"house\"], student[\"patronus\"], sep=\", \")"
   ]
  },
  {
   "cell_type": "code",
   "execution_count": null,
   "id": "dd211a23-979a-42ce-b679-2b803882c3bc",
   "metadata": {},
   "outputs": [],
   "source": []
  },
  {
   "cell_type": "code",
   "execution_count": null,
   "id": "6dcfa177-6223-4439-807c-44969267a3f8",
   "metadata": {},
   "outputs": [],
   "source": []
  },
  {
   "cell_type": "code",
   "execution_count": null,
   "id": "0a2f4f9f-8f9f-4f09-a291-f4747bfe286a",
   "metadata": {},
   "outputs": [],
   "source": []
  },
  {
   "cell_type": "code",
   "execution_count": null,
   "id": "f544f609-a2c1-447f-8634-fe4e20892b5e",
   "metadata": {},
   "outputs": [],
   "source": []
  },
  {
   "cell_type": "code",
   "execution_count": null,
   "id": "8322dc8f-565a-40e1-a8fa-98d8a68f9571",
   "metadata": {},
   "outputs": [],
   "source": []
  }
 ],
 "metadata": {
  "kernelspec": {
   "display_name": "Python 3 (ipykernel)",
   "language": "python",
   "name": "python3"
  },
  "language_info": {
   "codemirror_mode": {
    "name": "ipython",
    "version": 3
   },
   "file_extension": ".py",
   "mimetype": "text/x-python",
   "name": "python",
   "nbconvert_exporter": "python",
   "pygments_lexer": "ipython3",
   "version": "3.11.5"
  }
 },
 "nbformat": 4,
 "nbformat_minor": 5
}
