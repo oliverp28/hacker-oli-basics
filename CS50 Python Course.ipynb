{
 "cells": [
  {
   "cell_type": "markdown",
   "id": "f4c57570-1dd0-482d-a44c-ce30fe7fbd87",
   "metadata": {},
   "source": [
    "# CS50 Python Course"
   ]
  },
  {
   "cell_type": "markdown",
   "id": "b8ca8c0a-1151-4216-82c9-0e20440f3703",
   "metadata": {},
   "source": [
    "    Video-Titel: Harvard CS50’s Introduction to Programming with Python – Full University Course\n",
    "    Channel: freeCodeCapm.org\n",
    "    Youtube-Link: https://www.youtube.com/watch?v=nLRL_NcnK-4&list=LL&index=50 (Link-Date: 20.09.23)"
   ]
  },
  {
   "cell_type": "markdown",
   "id": "a4e0f9f6-6b00-41e1-84bc-2b90eb30641d",
   "metadata": {},
   "source": [
    "### Functions and Variables"
   ]
  },
  {
   "cell_type": "markdown",
   "id": "18014e74-07df-4203-801d-3ce3a41715e9",
   "metadata": {},
   "source": [
    "code hello.py --> starts to open a new file hello.py if you type it in vscode in the terminal"
   ]
  },
  {
   "cell_type": "markdown",
   "id": "5ec4b677-449d-4f63-bc1a-252b90138f36",
   "metadata": {},
   "source": [
    "terminal --> command line interface"
   ]
  },
  {
   "cell_type": "markdown",
   "id": "c0ebf6d0-1d0f-46f1-af5a-8e907dccb6e3",
   "metadata": {},
   "source": [
    "python hello.py --> starts the program hello.py with the interpreter python"
   ]
  },
  {
   "cell_type": "code",
   "execution_count": 5,
   "id": "c66b2303-76e3-4988-b79b-0562fa832f3e",
   "metadata": {},
   "outputs": [
    {
     "name": "stdout",
     "output_type": "stream",
     "text": [
      "hello, word\n"
     ]
    }
   ],
   "source": [
    "print(\"hello, word\")"
   ]
  },
  {
   "cell_type": "markdown",
   "id": "9f06c4e5-89a1-4c0e-afb8-2203bd5790ad",
   "metadata": {},
   "source": [
    "print     --> function to print arguments\n",
    "\n",
    "arguments --> input that is given to a function\n",
    "\n",
    "side effekt --> shows output\n",
    "\n",
    "bugs    --> problems in code that need to be solved"
   ]
  },
  {
   "cell_type": "code",
   "execution_count": 19,
   "id": "a3cf74a4-f181-404b-b0d3-5b25d19d64b9",
   "metadata": {},
   "outputs": [
    {
     "name": "stdin",
     "output_type": "stream",
     "text": [
      "Whats your name?  David\n"
     ]
    },
    {
     "name": "stdout",
     "output_type": "stream",
     "text": [
      "hello, David\n"
     ]
    }
   ],
   "source": [
    "input(\"Whats your name? \")\n",
    "print(\"hello, David\") #hardcode"
   ]
  },
  {
   "cell_type": "markdown",
   "id": "ce1d2514-0fdd-436b-84d1-96344e2a0a5a",
   "metadata": {},
   "source": [
    "variables --> stores value like a container\n",
    "            \n",
    "     => string\n",
    "     => int\n",
    "     => float\n",
    "     => lists\n",
    "     => dictionaries"
   ]
  },
  {
   "cell_type": "code",
   "execution_count": 20,
   "id": "3b96ec1f-1328-4dcc-a3a7-dbd9793fcdb5",
   "metadata": {},
   "outputs": [
    {
     "name": "stdin",
     "output_type": "stream",
     "text": [
      "Whats your name?  Josh\n"
     ]
    },
    {
     "name": "stdout",
     "output_type": "stream",
     "text": [
      "hello, \n",
      "Josh\n"
     ]
    }
   ],
   "source": [
    "name = input(\"Whats your name? \")\n",
    "print(\"hello, \")\n",
    "print(name)"
   ]
  },
  {
   "cell_type": "markdown",
   "id": "281548cc-30cc-4270-a960-1b31afbfaf6f",
   "metadata": {},
   "source": [
    "comments --> \"#\" shows the interpreter to ignore all the text behind the sign\n",
    "        \n",
    "        ==> makes code easier to read\n",
    "        ==> posibility to structure the code with comments and add the python code later"
   ]
  },
  {
   "cell_type": "code",
   "execution_count": 21,
   "id": "e5126f0d-e5f3-4ab2-b1f0-2a05a742e370",
   "metadata": {},
   "outputs": [
    {
     "name": "stdin",
     "output_type": "stream",
     "text": [
      "Whats your name?  Josh\n"
     ]
    },
    {
     "name": "stdout",
     "output_type": "stream",
     "text": [
      "hello, \n",
      "Josh\n"
     ]
    }
   ],
   "source": [
    "# ask user for their name\n",
    "name = input(\"Whats your name? \")\n",
    "\n",
    "# say hello to user\n",
    "print(\"hello, \")\n",
    "print(name)"
   ]
  },
  {
   "cell_type": "code",
   "execution_count": 25,
   "id": "9344f7b0-ca66-4c57-987a-658c9fa691da",
   "metadata": {},
   "outputs": [
    {
     "name": "stdin",
     "output_type": "stream",
     "text": [
      "Whats your name?  Josh\n"
     ]
    },
    {
     "name": "stdout",
     "output_type": "stream",
     "text": [
      "hello, Josh\n"
     ]
    }
   ],
   "source": [
    "# ask user for their name\n",
    "name = input(\"Whats your name? \")\n",
    "\n",
    "# say hello to user\n",
    "print(\"hello, \" + name) # \"+\" concatenate multiple strings"
   ]
  },
  {
   "cell_type": "code",
   "execution_count": 26,
   "id": "eefaea1d-35b5-4931-99d3-b136d6d1ee7a",
   "metadata": {},
   "outputs": [
    {
     "name": "stdin",
     "output_type": "stream",
     "text": [
      "Whats your name?  Josh\n"
     ]
    },
    {
     "name": "stdout",
     "output_type": "stream",
     "text": [
      "hello, Josh\n"
     ]
    }
   ],
   "source": [
    "# ask user for their name\n",
    "name = input(\"Whats your name? \")\n",
    "\n",
    "# say hello to user\n",
    "print(\"hello,\", name) #print gets to arguments and autofill a space between"
   ]
  },
  {
   "cell_type": "markdown",
   "id": "5920e062-5ec9-45ef-bbe5-4fb2da3ffe5e",
   "metadata": {},
   "source": [
    "#### docs.python.org/3/library is the official documentation for syntax"
   ]
  },
  {
   "cell_type": "markdown",
   "id": "c0552edb-f3c7-49e8-9bed-5e1a18c46dad",
   "metadata": {},
   "source": [
    "documentation of print:\n",
    "\n",
    "    print(*objects, sep=' ', end='\\n', file=sys.stdout, flush=False)\n",
    "    \n",
    "        - *objects means the print function can take every amount of arguments\n",
    "        - sep=' ' means if you pass multiple arguments all will separated with a space \n",
    "        - end='\\n' creates a new line like the key enter"
   ]
  },
  {
   "cell_type": "code",
   "execution_count": 28,
   "id": "14d51463-c499-4d24-9aa0-cbeeba9b8908",
   "metadata": {},
   "outputs": [
    {
     "name": "stdin",
     "output_type": "stream",
     "text": [
      "Whats your name?  David\n"
     ]
    },
    {
     "name": "stdout",
     "output_type": "stream",
     "text": [
      "hello, David\n"
     ]
    }
   ],
   "source": [
    "# ask user for their name\n",
    "name = input(\"Whats your name? \")\n",
    "\n",
    "# say hello to user\n",
    "print(\"hello, \", end=\"\") # removes the new line\n",
    "print(name)"
   ]
  },
  {
   "cell_type": "code",
   "execution_count": 31,
   "id": "b18625db-2b21-442e-9732-6d7aa1ff668a",
   "metadata": {},
   "outputs": [
    {
     "name": "stdin",
     "output_type": "stream",
     "text": [
      "Whats your name?  David\n"
     ]
    },
    {
     "name": "stdout",
     "output_type": "stream",
     "text": [
      "hello,???David\n"
     ]
    }
   ],
   "source": [
    "# ask user for their name\n",
    "name = input(\"Whats your name? \")\n",
    "\n",
    "# say hello to user\n",
    "print(\"hello,\", name, sep=\"???\") # uses ??? to separate the parameters"
   ]
  },
  {
   "cell_type": "markdown",
   "id": "02963e0f-42d8-4b73-a308-0bfca500bc75",
   "metadata": {},
   "source": [
    "cornercase: what if you want to print \"\""
   ]
  },
  {
   "cell_type": "code",
   "execution_count": 34,
   "id": "ceb8724b-922d-436f-9f04-09a0cc31f8e3",
   "metadata": {},
   "outputs": [
    {
     "name": "stdout",
     "output_type": "stream",
     "text": [
      "hello, \"friend\"\n"
     ]
    }
   ],
   "source": [
    "#say hello to user\n",
    "print('hello, \"friend\"')# use a different syntax but be consistent"
   ]
  },
  {
   "cell_type": "code",
   "execution_count": 36,
   "id": "d2e0d98f-c304-4035-9063-a7419cfba029",
   "metadata": {},
   "outputs": [
    {
     "name": "stdout",
     "output_type": "stream",
     "text": [
      "hello, \"friend\"\n"
     ]
    }
   ],
   "source": [
    "#say hello to user\n",
    "print(\"hello, \\\"friend\\\"\")# changes the quotes to literal quotes"
   ]
  },
  {
   "cell_type": "code",
   "execution_count": 39,
   "id": "191ca43f-9512-4ee7-b1cd-5ac1c367ea65",
   "metadata": {},
   "outputs": [
    {
     "name": "stdin",
     "output_type": "stream",
     "text": [
      "Whats your name?  David\n"
     ]
    },
    {
     "name": "stdout",
     "output_type": "stream",
     "text": [
      "hello, David\n"
     ]
    }
   ],
   "source": [
    "# ask user for their name\n",
    "name = input(\"Whats your name? \")\n",
    "\n",
    "# say hello to user\n",
    "print(f\"hello, {name}\")# formates automatically"
   ]
  },
  {
   "cell_type": "code",
   "execution_count": 42,
   "id": "a6f436cc-a202-400c-93e6-546fa0884e0c",
   "metadata": {},
   "outputs": [
    {
     "name": "stdin",
     "output_type": "stream",
     "text": [
      "Whats your name?     David   \n"
     ]
    },
    {
     "name": "stdout",
     "output_type": "stream",
     "text": [
      "hello, David\n"
     ]
    }
   ],
   "source": [
    "# ask user for their name\n",
    "name = input(\"Whats your name? \")\n",
    "\n",
    "# remove whitespace from str\n",
    "name = name.strip()# .strip is a built-in function\n",
    "\n",
    "# say hello to user\n",
    "print(f\"hello, {name}\")"
   ]
  },
  {
   "cell_type": "code",
   "execution_count": 46,
   "id": "f1aea039-adec-4623-b911-cd6b7042c24d",
   "metadata": {},
   "outputs": [
    {
     "name": "stdin",
     "output_type": "stream",
     "text": [
      "Whats your name?      david lane\n"
     ]
    },
    {
     "name": "stdout",
     "output_type": "stream",
     "text": [
      "hello, David lane\n"
     ]
    }
   ],
   "source": [
    "# ask user for their name\n",
    "name = input(\"Whats your name? \")\n",
    "\n",
    "# remove whitespace from str\n",
    "name = name.strip()# .strip is a built-in function\n",
    "\n",
    "# capitalize user's name\n",
    "name = name.capitalize()# just capitalizes the first word\n",
    "\n",
    "# say hello to user\n",
    "print(f\"hello, {name}\")"
   ]
  },
  {
   "cell_type": "code",
   "execution_count": 47,
   "id": "79d1f42b-a65a-4f5b-a002-4b1fe800a1cd",
   "metadata": {},
   "outputs": [
    {
     "name": "stdin",
     "output_type": "stream",
     "text": [
      "Whats your name?     david lane\n"
     ]
    },
    {
     "name": "stdout",
     "output_type": "stream",
     "text": [
      "hello, David Lane\n"
     ]
    }
   ],
   "source": [
    "# ask user for their name\n",
    "name = input(\"Whats your name? \")\n",
    "\n",
    "# remove whitespace from str\n",
    "name = name.strip()\n",
    "\n",
    "# capitalize user's name\n",
    "name = name.title()\n",
    "\n",
    "# say hello to user\n",
    "print(f\"hello, {name}\")"
   ]
  },
  {
   "cell_type": "code",
   "execution_count": 48,
   "id": "b68896b7-8f72-41c5-83e3-78a6a56eab77",
   "metadata": {},
   "outputs": [
    {
     "name": "stdin",
     "output_type": "stream",
     "text": [
      "Whats your name?     david lane  \n"
     ]
    },
    {
     "name": "stdout",
     "output_type": "stream",
     "text": [
      "hello, David Lane\n"
     ]
    }
   ],
   "source": [
    "# ask user for their name\n",
    "name = input(\"Whats your name? \")\n",
    "\n",
    "# remove whitespace from str and capitalize user's name\n",
    "name = name.strip().title()\n",
    "\n",
    "# say hello to user\n",
    "print(f\"hello, {name}\")"
   ]
  },
  {
   "cell_type": "markdown",
   "id": "a159fa35-4903-4499-8862-4e809136fad0",
   "metadata": {},
   "source": [
    "#### shortest version but less easier to read"
   ]
  },
  {
   "cell_type": "code",
   "execution_count": 49,
   "id": "8bdbffa9-5333-4bf7-9266-42b73cb2b135",
   "metadata": {},
   "outputs": [
    {
     "name": "stdin",
     "output_type": "stream",
     "text": [
      "Whats your name?    david lane\n"
     ]
    },
    {
     "name": "stdout",
     "output_type": "stream",
     "text": [
      "hello, David Lane\n"
     ]
    }
   ],
   "source": [
    "# ask user for their name\n",
    "name = input(\"Whats your name? \").strip().title()\n",
    "\n",
    "# say hello to user\n",
    "print(f\"hello, {name}\")"
   ]
  },
  {
   "cell_type": "markdown",
   "id": "0b5c3648-3560-43c9-bdce-23e64c2f2078",
   "metadata": {},
   "source": [
    "### go further"
   ]
  },
  {
   "cell_type": "code",
   "execution_count": 50,
   "id": "991c22f1-c76b-400c-a5b7-8be879f46f77",
   "metadata": {},
   "outputs": [
    {
     "name": "stdin",
     "output_type": "stream",
     "text": [
      "Whats your name?  david lane\n"
     ]
    },
    {
     "name": "stdout",
     "output_type": "stream",
     "text": [
      "hello, David\n"
     ]
    }
   ],
   "source": [
    "# ask user for their name\n",
    "name = input(\"Whats your name? \").strip().title()\n",
    "\n",
    "# split user's name into first name and last name\n",
    "first, last = name.split(\" \")\n",
    "\n",
    "\n",
    "# say hello to user\n",
    "print(f\"hello, {first}\")"
   ]
  },
  {
   "cell_type": "markdown",
   "id": "b6d33373-ee65-4bfc-b927-3ce09ce94c30",
   "metadata": {},
   "source": [
    "## interactive mode"
   ]
  },
  {
   "cell_type": "markdown",
   "id": "20af0548-8887-4048-a4d4-8c57a68a941a",
   "metadata": {},
   "source": [
    "--> method to execute code faster and automatically\n",
    "\n",
    "    open the terminal in vscode\n",
    "    maximize the window\n",
    "    type \"python\"\n",
    "    write python code without creating a file"
   ]
  },
  {
   "cell_type": "markdown",
   "id": "67af1a58-e97f-43a9-9b5e-1d41d0f71dc9",
   "metadata": {},
   "source": [
    "### int"
   ]
  },
  {
   "cell_type": "markdown",
   "id": "26ff8eb3-c6bf-4e5b-90ab-ce26a63cc612",
   "metadata": {},
   "source": [
    "All numbers without a comma"
   ]
  },
  {
   "cell_type": "code",
   "execution_count": 52,
   "id": "9c8e430d-b79a-4125-b557-d052ec6ff6bc",
   "metadata": {},
   "outputs": [
    {
     "name": "stdout",
     "output_type": "stream",
     "text": [
      "3\n"
     ]
    }
   ],
   "source": [
    "x = 1\n",
    "y = 2\n",
    "\n",
    "z = x + y\n",
    "\n",
    "print(z)"
   ]
  },
  {
   "cell_type": "code",
   "execution_count": 54,
   "id": "7cf92be9-d86e-48cf-8577-23a8aab3a047",
   "metadata": {},
   "outputs": [
    {
     "name": "stdin",
     "output_type": "stream",
     "text": [
      "Whats x?  1\n",
      "Whats y?  2\n"
     ]
    },
    {
     "name": "stdout",
     "output_type": "stream",
     "text": [
      "12\n"
     ]
    }
   ],
   "source": [
    "x = input(\"Whats x? \")\n",
    "\n",
    "y = input(\"Whats y? \")\n",
    "\n",
    "z = x + y\n",
    "\n",
    "print(z)"
   ]
  },
  {
   "cell_type": "markdown",
   "id": "0db19b17-5375-4b4e-9cf9-43175a12fb59",
   "metadata": {},
   "source": [
    "--> in this case the input is just a concatenated text with a string like \"1\" + \"2\" -> \"12\""
   ]
  },
  {
   "cell_type": "code",
   "execution_count": 55,
   "id": "279c91e8-300c-4b5b-9acb-0f012c6384da",
   "metadata": {},
   "outputs": [
    {
     "name": "stdin",
     "output_type": "stream",
     "text": [
      "Whats x?  1\n",
      "Whats y?  2\n"
     ]
    },
    {
     "name": "stdout",
     "output_type": "stream",
     "text": [
      "3\n"
     ]
    }
   ],
   "source": [
    "x = input(\"Whats x? \")\n",
    "\n",
    "y = input(\"Whats y? \")\n",
    "\n",
    "z = int(x) + int(y) # if input str looks like a number it converts into a integer\n",
    "\n",
    "print(z)"
   ]
  },
  {
   "cell_type": "code",
   "execution_count": 56,
   "id": "bdfa7637-0cfc-4e4e-94ea-69856787625f",
   "metadata": {},
   "outputs": [
    {
     "name": "stdin",
     "output_type": "stream",
     "text": [
      "Whats x?  1\n",
      "Whats y?  2\n"
     ]
    },
    {
     "name": "stdout",
     "output_type": "stream",
     "text": [
      "3\n"
     ]
    }
   ],
   "source": [
    "x = int(input(\"Whats x? \"))\n",
    "\n",
    "y = int(input(\"Whats y? \"))\n",
    "\n",
    "print(x + y)"
   ]
  },
  {
   "cell_type": "code",
   "execution_count": 57,
   "id": "7c2bcfc4-ff24-4cbd-81b5-99997aac3bec",
   "metadata": {},
   "outputs": [
    {
     "name": "stdin",
     "output_type": "stream",
     "text": [
      "Whats x?  1\n",
      "Whats y?  2\n"
     ]
    },
    {
     "name": "stdout",
     "output_type": "stream",
     "text": [
      "3\n"
     ]
    }
   ],
   "source": [
    "print(int(input(\"Whats x? \")) + int(input(\"Whats y? \")))"
   ]
  },
  {
   "cell_type": "markdown",
   "id": "813b3a9a-b504-4124-9f41-69652e1a73aa",
   "metadata": {},
   "source": [
    "### float"
   ]
  },
  {
   "cell_type": "markdown",
   "id": "3d435fdf-db66-4241-98e5-a5c5ec70bec4",
   "metadata": {},
   "source": [
    "a number with a comma"
   ]
  },
  {
   "cell_type": "code",
   "execution_count": 58,
   "id": "b11ccca2-7e9f-481a-9177-93e9fdc03d2e",
   "metadata": {},
   "outputs": [
    {
     "name": "stdin",
     "output_type": "stream",
     "text": [
      "Whats x?  1.2\n",
      "Whats y?  2.8\n"
     ]
    },
    {
     "name": "stdout",
     "output_type": "stream",
     "text": [
      "4.0\n"
     ]
    }
   ],
   "source": [
    "x = float(input(\"Whats x? \"))\n",
    "\n",
    "y = float(input(\"Whats y? \"))\n",
    "\n",
    "print(x + y)"
   ]
  },
  {
   "cell_type": "markdown",
   "id": "13d6f569-e6c0-44a6-8d17-9cc75a5b7faa",
   "metadata": {},
   "source": [
    "### round() rounds a number"
   ]
  },
  {
   "cell_type": "markdown",
   "id": "54b2e897-113a-4153-95e4-d0f39c562456",
   "metadata": {},
   "source": [
    "    documentation:\n",
    "    \n",
    "    round(number[, ndigits])\n",
    "    \n",
    "    it rounds to the nearest integer\n",
    "    [] means you see something optional\n",
    "    -> round(number[, 4]) means it shows 4 digits after the comma and the 4th is rounded"
   ]
  },
  {
   "cell_type": "code",
   "execution_count": 64,
   "id": "f9facd26-ab58-4631-b0c9-1f6f3b50df78",
   "metadata": {},
   "outputs": [
    {
     "data": {
      "text/plain": [
       "1.2346"
      ]
     },
     "execution_count": 64,
     "metadata": {},
     "output_type": "execute_result"
    }
   ],
   "source": [
    "number = 1.234567\n",
    "round(number, 4)"
   ]
  },
  {
   "cell_type": "code",
   "execution_count": 65,
   "id": "21018d91-4d46-44ed-abe3-0a20b5e2bf42",
   "metadata": {},
   "outputs": [
    {
     "name": "stdin",
     "output_type": "stream",
     "text": [
      "Whats x?  1.2\n",
      "Whats y?  2.6\n"
     ]
    },
    {
     "name": "stdout",
     "output_type": "stream",
     "text": [
      "4\n"
     ]
    }
   ],
   "source": [
    "x = float(input(\"Whats x? \"))\n",
    "\n",
    "y = float(input(\"Whats y? \"))\n",
    "\n",
    "z = round(x + y)\n",
    "\n",
    "print(z)"
   ]
  },
  {
   "cell_type": "code",
   "execution_count": 67,
   "id": "b41a9133-19a9-4154-867e-318797a35a5d",
   "metadata": {},
   "outputs": [
    {
     "name": "stdin",
     "output_type": "stream",
     "text": [
      "Whats x?  999\n",
      "Whats y?  1\n"
     ]
    },
    {
     "name": "stdout",
     "output_type": "stream",
     "text": [
      "1000\n"
     ]
    }
   ],
   "source": [
    "x = float(input(\"Whats x? \"))\n",
    "\n",
    "y = float(input(\"Whats y? \"))\n",
    "\n",
    "z = round(x + y)\n",
    "\n",
    "print(z)\n",
    "# can use floats and rounding but doesnt have to"
   ]
  },
  {
   "cell_type": "code",
   "execution_count": 69,
   "id": "74177e7d-e79a-4f4c-9c7b-032702d28e17",
   "metadata": {},
   "outputs": [
    {
     "name": "stdin",
     "output_type": "stream",
     "text": [
      "Whats x?  999\n",
      "Whats y?  1\n"
     ]
    },
    {
     "name": "stdout",
     "output_type": "stream",
     "text": [
      "1,000\n"
     ]
    }
   ],
   "source": [
    "x = float(input(\"Whats x? \"))\n",
    "\n",
    "y = float(input(\"Whats y? \"))\n",
    "\n",
    "z = round(x + y)\n",
    "\n",
    "print(f\"{z:,}\")"
   ]
  },
  {
   "cell_type": "code",
   "execution_count": 70,
   "id": "d0c8edd0-c73b-4eae-8c1a-6e2970d9a0de",
   "metadata": {},
   "outputs": [
    {
     "name": "stdin",
     "output_type": "stream",
     "text": [
      "Whats x?  2\n",
      "Whats y?  3\n"
     ]
    },
    {
     "name": "stdout",
     "output_type": "stream",
     "text": [
      "0.6666666666666666\n"
     ]
    }
   ],
   "source": [
    "x = float(input(\"Whats x? \"))\n",
    "\n",
    "y = float(input(\"Whats y? \"))\n",
    "\n",
    "z = x / y\n",
    "\n",
    "print(z)"
   ]
  },
  {
   "cell_type": "markdown",
   "id": "b8d61ce1-82e5-4240-9ead-42c12ca1997d",
   "metadata": {},
   "source": [
    "floats are limited"
   ]
  },
  {
   "cell_type": "code",
   "execution_count": 71,
   "id": "98c0914f-63b1-432f-b3cb-8dc00bb88009",
   "metadata": {},
   "outputs": [
    {
     "name": "stdin",
     "output_type": "stream",
     "text": [
      "Whats x?  2\n",
      "Whats y?  3\n"
     ]
    },
    {
     "name": "stdout",
     "output_type": "stream",
     "text": [
      "0.67\n"
     ]
    }
   ],
   "source": [
    "x = float(input(\"Whats x? \"))\n",
    "\n",
    "y = float(input(\"Whats y? \"))\n",
    "\n",
    "z = round(x / y, 2)\n",
    "\n",
    "print(z)"
   ]
  },
  {
   "cell_type": "code",
   "execution_count": 72,
   "id": "24c6d4fe-d7d2-4b2d-b685-c6c58086d7e2",
   "metadata": {},
   "outputs": [
    {
     "name": "stdin",
     "output_type": "stream",
     "text": [
      "Whats x?  2\n",
      "Whats y?  3\n"
     ]
    },
    {
     "name": "stdout",
     "output_type": "stream",
     "text": [
      "0.67\n"
     ]
    }
   ],
   "source": [
    "x = float(input(\"Whats x? \"))\n",
    "\n",
    "y = float(input(\"Whats y? \"))\n",
    "\n",
    "z = x / y\n",
    "\n",
    "print(f\"{z:.2f}\")# defines the digits and rounds it"
   ]
  },
  {
   "cell_type": "code",
   "execution_count": 76,
   "id": "1a4648ce-1627-4be6-8b74-aef617a12fb5",
   "metadata": {},
   "outputs": [
    {
     "name": "stdin",
     "output_type": "stream",
     "text": [
      "Whats your name?  David\n"
     ]
    },
    {
     "name": "stdout",
     "output_type": "stream",
     "text": [
      "hello,  David\n"
     ]
    }
   ],
   "source": [
    "def hello(to):\n",
    "    print(\"hello, \", to) # i tab key means 4 spaces\n",
    "\n",
    "name = input(\"Whats your name? \")\n",
    "hello(name)"
   ]
  },
  {
   "cell_type": "code",
   "execution_count": 77,
   "id": "253a69a4-a994-4c23-a486-e1814dbf6427",
   "metadata": {},
   "outputs": [
    {
     "name": "stdout",
     "output_type": "stream",
     "text": [
      "hello,  world\n"
     ]
    },
    {
     "name": "stdin",
     "output_type": "stream",
     "text": [
      "Whats your name?  David\n"
     ]
    },
    {
     "name": "stdout",
     "output_type": "stream",
     "text": [
      "hello,  David\n"
     ]
    }
   ],
   "source": [
    "def hello(to=\"world\"): # if no argument is given than use \"world\"\n",
    "    print(\"hello, \", to) # i tab key means 4 spaces\n",
    "\n",
    "    \n",
    "hello()\n",
    "name = input(\"Whats your name? \")\n",
    "hello(name)"
   ]
  },
  {
   "cell_type": "markdown",
   "id": "89a60e44-e71a-45dd-877c-0e304124c6e7",
   "metadata": {},
   "source": [
    "a function has to exist before you use it"
   ]
  },
  {
   "cell_type": "code",
   "execution_count": 79,
   "id": "e4dcb8a6-7232-4b69-b90b-305916ddf417",
   "metadata": {},
   "outputs": [
    {
     "name": "stdin",
     "output_type": "stream",
     "text": [
      "Whats your name ? David\n"
     ]
    },
    {
     "name": "stdout",
     "output_type": "stream",
     "text": [
      "hello, David\n"
     ]
    }
   ],
   "source": [
    "def main():\n",
    "    name = input(\"Whats your name ?\")\n",
    "    hello(name)\n",
    "    \n",
    "def hello(to=\"world\"):\n",
    "    print(\"hello,\", to)\n",
    "    \n",
    "main() # to use a function you have to call it, def is not enaugh"
   ]
  },
  {
   "cell_type": "markdown",
   "id": "c4663e1b-62c4-49d2-a662-417f252552e2",
   "metadata": {},
   "source": [
    "Whatchout for the scope!"
   ]
  },
  {
   "cell_type": "code",
   "execution_count": 82,
   "id": "be640eae-3eca-45de-907a-82dac7c45349",
   "metadata": {},
   "outputs": [
    {
     "name": "stdin",
     "output_type": "stream",
     "text": [
      "Whats x?  2\n"
     ]
    },
    {
     "name": "stdout",
     "output_type": "stream",
     "text": [
      "x squared is 4\n"
     ]
    }
   ],
   "source": [
    "def main():\n",
    "    x = int(input(\"Whats x? \"))\n",
    "    print(\"x squared is\", square(x))\n",
    "    \n",
    "def square(n):\n",
    "    return n * n\n",
    "\n",
    "main()"
   ]
  },
  {
   "cell_type": "markdown",
   "id": "44ae7c29-610c-4306-808b-c5284a5e3a94",
   "metadata": {},
   "source": [
    "the output of square gives arguments to the main-function"
   ]
  },
  {
   "cell_type": "markdown",
   "id": "8a6aac06-e471-45e7-8f11-8d900a011107",
   "metadata": {},
   "source": [
    "## Conditionals"
   ]
  },
  {
   "cell_type": "markdown",
   "id": "62bf021c-4d6c-4d22-890d-7ace5ee4cce4",
   "metadata": {},
   "source": [
    "decide which line of code needs to be executed\n",
    "\n",
    "    > greater then\n",
    "    >= greater then or equal to\n",
    "    <= less than or equal to\n",
    "    == egual to\n",
    "    != not equal to"
   ]
  },
  {
   "cell_type": "markdown",
   "id": "bc4393b0-585f-498e-bbe2-95a45027b14b",
   "metadata": {},
   "source": [
    "**if-Statement**"
   ]
  },
  {
   "cell_type": "code",
   "execution_count": 84,
   "id": "c10cca8b-3061-4931-b8c3-a14a23076a20",
   "metadata": {},
   "outputs": [
    {
     "name": "stdin",
     "output_type": "stream",
     "text": [
      "Whats x?  1\n",
      "Whats y?  7\n"
     ]
    },
    {
     "name": "stdout",
     "output_type": "stream",
     "text": [
      "x is less than y\n"
     ]
    }
   ],
   "source": [
    "x = int(input(\"Whats x? \"))\n",
    "y = int(input(\"Whats y? \"))\n",
    "\n",
    "if x < y:\n",
    "    print(\"x is less than y\") # like a boolean true or false\n",
    "    \n",
    "if x > y:\n",
    "    print(\"x is greater than y\")\n",
    "    \n",
    "if x == y:\n",
    "    print(\"x is equal to y\")"
   ]
  },
  {
   "cell_type": "code",
   "execution_count": 85,
   "id": "f2b9f7a9-9589-4de4-af83-f0ac02a29e56",
   "metadata": {},
   "outputs": [
    {
     "name": "stdin",
     "output_type": "stream",
     "text": [
      "Whats x?  1\n",
      "Whats y?  7\n"
     ]
    },
    {
     "name": "stdout",
     "output_type": "stream",
     "text": [
      "x is less than y\n"
     ]
    }
   ],
   "source": [
    "x = int(input(\"Whats x? \"))\n",
    "y = int(input(\"Whats y? \"))\n",
    "\n",
    "if x < y:\n",
    "    print(\"x is less than y\") \n",
    "    \n",
    "elif x > y:\n",
    "    print(\"x is greater than y\")\n",
    "    \n",
    "elif x == y:\n",
    "    print(\"x is equal to y\")"
   ]
  },
  {
   "cell_type": "markdown",
   "id": "0a83e6af-595b-49e8-baad-afe545eeb0c7",
   "metadata": {},
   "source": [
    "**elif** will just asked if the answer to the first question is wrong,\n",
    "\n",
    "the program is faster and runs only for as long as necessary"
   ]
  },
  {
   "cell_type": "code",
   "execution_count": 87,
   "id": "1c3b1c22-7861-48ed-b375-5723dcfc5937",
   "metadata": {},
   "outputs": [
    {
     "name": "stdin",
     "output_type": "stream",
     "text": [
      "Whats x?  1\n",
      "Whats y?  7\n"
     ]
    },
    {
     "name": "stdout",
     "output_type": "stream",
     "text": [
      "x is less than y\n"
     ]
    }
   ],
   "source": [
    "x = int(input(\"Whats x? \"))\n",
    "y = int(input(\"Whats y? \"))\n",
    "\n",
    "if x < y:\n",
    "    print(\"x is less than y\") \n",
    "    \n",
    "elif x > y:\n",
    "    print(\"x is greater than y\")\n",
    "    \n",
    "else:\n",
    "    print(\"x is equal to y\") \n",
    "  "
   ]
  },
  {
   "cell_type": "markdown",
   "id": "bf1c7062-3e63-4d24-8a2d-538136c9cdf2",
   "metadata": {},
   "source": [
    "**else** is the last option if no question is answered\n",
    "\n",
    "==> improves the speed and efficiency"
   ]
  },
  {
   "cell_type": "code",
   "execution_count": 88,
   "id": "54de662b-682e-4ffc-a905-0ac10f699fb1",
   "metadata": {},
   "outputs": [
    {
     "name": "stdin",
     "output_type": "stream",
     "text": [
      "Whats x?  2\n",
      "Whats y?  1\n"
     ]
    },
    {
     "name": "stdout",
     "output_type": "stream",
     "text": [
      "x is not equal to y\n"
     ]
    }
   ],
   "source": [
    "x = int(input(\"Whats x? \"))\n",
    "y = int(input(\"Whats y? \"))\n",
    "\n",
    "if x < y or x > y:\n",
    "    print(\"x is not equal to y\")\n",
    "    \n",
    "else:\n",
    "    print(\"x is equal to y\")"
   ]
  },
  {
   "cell_type": "code",
   "execution_count": 89,
   "id": "08e2e53a-2f31-4a85-b5ae-aa7f63302693",
   "metadata": {},
   "outputs": [
    {
     "name": "stdin",
     "output_type": "stream",
     "text": [
      "Whats x?  1\n",
      "Whats y?  1\n"
     ]
    },
    {
     "name": "stdout",
     "output_type": "stream",
     "text": [
      "x is equal to y\n"
     ]
    }
   ],
   "source": [
    "x = int(input(\"Whats x? \"))\n",
    "y = int(input(\"Whats y? \"))\n",
    "\n",
    "if x != y:\n",
    "    print(\"x is not equal to y\")\n",
    "    \n",
    "else:\n",
    "    print(\"x is equal to y\")"
   ]
  },
  {
   "cell_type": "code",
   "execution_count": 90,
   "id": "f562f816-1a4c-49b3-ae97-328d4feb092c",
   "metadata": {},
   "outputs": [
    {
     "name": "stdin",
     "output_type": "stream",
     "text": [
      "Score:  80\n"
     ]
    },
    {
     "name": "stdout",
     "output_type": "stream",
     "text": [
      "Grade: B\n"
     ]
    }
   ],
   "source": [
    "score = int(input(\"Score: \"))\n",
    "\n",
    "if score >= 90 and score <= 100:\n",
    "    print(\"Grade: A\")\n",
    "elif score >= 80 and score < 90:\n",
    "    print(\"Grade: B\")\n",
    "elif score >= 70 and score < 80:\n",
    "    print(\"Grade: C\")\n",
    "elif score >= 60 and score < 70:\n",
    "    print(\"Grade: D\")\n",
    "else:\n",
    "    print(\"Grade: F\")"
   ]
  },
  {
   "cell_type": "code",
   "execution_count": 92,
   "id": "2d75e944-aa22-45b4-861f-c3230392b4fe",
   "metadata": {},
   "outputs": [
    {
     "name": "stdin",
     "output_type": "stream",
     "text": [
      "Score:  73\n"
     ]
    },
    {
     "name": "stdout",
     "output_type": "stream",
     "text": [
      "Grade: C\n"
     ]
    }
   ],
   "source": [
    "score = int(input(\"Score: \"))\n",
    "\n",
    "if score >= 90:\n",
    "    print(\"Grade: A\")\n",
    "elif score >= 80:\n",
    "    print(\"Grade: B\")\n",
    "elif score >= 70:\n",
    "    print(\"Grade: C\")\n",
    "elif score >= 60:\n",
    "    print(\"Grade: D\")\n",
    "else:\n",
    "    print(\"Grade: F\")"
   ]
  },
  {
   "cell_type": "markdown",
   "id": "95d96633-e8c7-4ca2-adc8-52faa81e01a4",
   "metadata": {},
   "source": [
    "### Modulo Operator"
   ]
  },
  {
   "cell_type": "markdown",
   "id": "6744a091-8a20-4d7a-9df3-8ee4363af8ad",
   "metadata": {},
   "source": [
    "**%** checks if the number is even,\n",
    "\n",
    "4 % 2 means 2 goes 2 times into 4 and their is no rest.\n",
    "\n",
    "5 % 2 means 2 goes 2 times into 5 and the rest is 1."
   ]
  },
  {
   "cell_type": "code",
   "execution_count": 96,
   "id": "5f8be7bc-59c4-4e70-a325-9ff7cf6d147b",
   "metadata": {},
   "outputs": [
    {
     "data": {
      "text/plain": [
       "1"
      ]
     },
     "execution_count": 96,
     "metadata": {},
     "output_type": "execute_result"
    }
   ],
   "source": [
    "5 % 2"
   ]
  },
  {
   "cell_type": "code",
   "execution_count": 95,
   "id": "491073e2-b344-465c-8993-9dea28fdc73b",
   "metadata": {},
   "outputs": [
    {
     "name": "stdin",
     "output_type": "stream",
     "text": [
      "Whats x?  5\n"
     ]
    },
    {
     "name": "stdout",
     "output_type": "stream",
     "text": [
      "Odd\n"
     ]
    }
   ],
   "source": [
    "x = int(input(\"Whats x? \"))\n",
    "\n",
    "if x % 2 == 0:\n",
    "    print(\"Even\")\n",
    "else:\n",
    "    print(\"Odd\")"
   ]
  },
  {
   "cell_type": "code",
   "execution_count": 99,
   "id": "9e9b9927-7038-4b0c-87fc-a45223bec162",
   "metadata": {},
   "outputs": [
    {
     "name": "stdin",
     "output_type": "stream",
     "text": [
      "Whats x?  10\n"
     ]
    },
    {
     "name": "stdout",
     "output_type": "stream",
     "text": [
      "Even\n"
     ]
    }
   ],
   "source": [
    "def main():\n",
    "    x = int(input(\"Whats x? \"))\n",
    "    if is_even(x):\n",
    "        print(\"Even\")\n",
    "    else:\n",
    "        print(\"Odd\")\n",
    "        \n",
    "def is_even(n): # n like number\n",
    "    if n % 2 == 0:\n",
    "        return True # boolean operator\n",
    "    else:\n",
    "        return False\n",
    "\n",
    "main()"
   ]
  },
  {
   "cell_type": "markdown",
   "id": "06b29987-cae7-49fa-bd3c-d77c63d8812e",
   "metadata": {},
   "source": [
    "Popular variant: Write the code and even if functions are needed that do not yet exist, write the code as if the function already exists. Define the function later."
   ]
  },
  {
   "cell_type": "markdown",
   "id": "e891c4e5-b7f5-4548-8ec7-9239736aca05",
   "metadata": {},
   "source": [
    "Pythonic: Way that is used by most python-programmers"
   ]
  },
  {
   "cell_type": "code",
   "execution_count": 1,
   "id": "917423d0-76a4-4f53-a6c9-1cf1cc5f1aa7",
   "metadata": {},
   "outputs": [
    {
     "name": "stdin",
     "output_type": "stream",
     "text": [
      "Whats x?  2\n"
     ]
    },
    {
     "name": "stdout",
     "output_type": "stream",
     "text": [
      "Even\n"
     ]
    }
   ],
   "source": [
    "def main():\n",
    "    x = int(input(\"Whats x? \"))\n",
    "    if is_even(x):\n",
    "        print(\"Even\")\n",
    "    else:\n",
    "        print(\"Odd\")\n",
    "        \n",
    "def is_even(n):\n",
    "    return True if n % 2 == 0 else False # pythonic\n",
    "\n",
    "main()"
   ]
  },
  {
   "cell_type": "code",
   "execution_count": 2,
   "id": "16b569e5-e39c-443d-8cff-e479af4ac3ff",
   "metadata": {},
   "outputs": [
    {
     "name": "stdin",
     "output_type": "stream",
     "text": [
      "Whats x?  3\n"
     ]
    },
    {
     "name": "stdout",
     "output_type": "stream",
     "text": [
      "Odd\n"
     ]
    }
   ],
   "source": [
    "def main():\n",
    "    x = int(input(\"Whats x? \"))\n",
    "    if is_even(x):\n",
    "        print(\"Even\")\n",
    "    else:\n",
    "        print(\"Odd\")\n",
    "        \n",
    "def is_even(n):\n",
    "    return n % 2 == 0 # parenthesis can be used to execute something first\n",
    "\n",
    "main()"
   ]
  },
  {
   "cell_type": "code",
   "execution_count": 10,
   "id": "9de864d0-3906-44f1-a2be-686cf8bbb0a1",
   "metadata": {},
   "outputs": [
    {
     "name": "stdin",
     "output_type": "stream",
     "text": [
      "Whats your name?  Harry\n"
     ]
    },
    {
     "name": "stdout",
     "output_type": "stream",
     "text": [
      "Gryffindor\n"
     ]
    }
   ],
   "source": [
    "name = input(\"Whats your name? \")\n",
    "\n",
    "if name == \"Harry\":\n",
    "    print(\"Gryffindor\")\n",
    "elif name == \"Hermione\":\n",
    "    print(\"GRyffindor\")\n",
    "elif name == \"Ron\":\n",
    "    print(\"Gryffindor\")\n",
    "elif name == \"Draco\":\n",
    "    print(\"Slytherin\")\n",
    "else:\n",
    "    print(\"Who? \")"
   ]
  },
  {
   "cell_type": "code",
   "execution_count": 11,
   "id": "d8556b72-72ab-4c5e-ae69-68fe47dc87d1",
   "metadata": {},
   "outputs": [
    {
     "name": "stdin",
     "output_type": "stream",
     "text": [
      "Whats your name?  Draco\n"
     ]
    },
    {
     "name": "stdout",
     "output_type": "stream",
     "text": [
      "Slytherin\n"
     ]
    }
   ],
   "source": [
    "name = input(\"Whats your name? \")\n",
    "\n",
    "if name == \"Harry\" or name == (\"Hermione\") or name == \"Ron\":\n",
    "    print(\"Gryffindor\")\n",
    "elif name == \"Draco\":\n",
    "    print(\"Slytherin\")\n",
    "else:\n",
    "    print(\"Who? \")"
   ]
  },
  {
   "cell_type": "code",
   "execution_count": 3,
   "id": "c48b92ba-e994-42d8-9ea2-f720ed79157d",
   "metadata": {
    "tags": []
   },
   "outputs": [
    {
     "name": "stdin",
     "output_type": "stream",
     "text": [
      "Whats your name?  Hermione\n"
     ]
    },
    {
     "name": "stdout",
     "output_type": "stream",
     "text": [
      "Gryffindor\n"
     ]
    }
   ],
   "source": [
    "name = input(\"Whats your name? \")\n",
    "\n",
    "match name: \n",
    "    case \"Harry\":\n",
    "        print(\"Gryffindor\")\n",
    "    case \"Hermione\":\n",
    "        print(\"Gryffindor\")\n",
    "    case \"Ron\":\n",
    "        print(\"Gryffindor\")\n",
    "    case \"Draco\":\n",
    "        print(\"Slytherin\")\n",
    "\n",
    "# therefore you need the newest python version -> 3.10 or newer\n",
    "# best practise to upgrade python-version with anaconda is reinstall"
   ]
  },
  {
   "cell_type": "code",
   "execution_count": 7,
   "id": "aa2a951c-9186-45d8-a6d7-6c262e42f115",
   "metadata": {},
   "outputs": [
    {
     "name": "stdin",
     "output_type": "stream",
     "text": [
      "Whats your name?  Albert\n"
     ]
    },
    {
     "name": "stdout",
     "output_type": "stream",
     "text": [
      "Who?\n"
     ]
    }
   ],
   "source": [
    "name = input(\"Whats your name? \")\n",
    "\n",
    "match name: \n",
    "    case \"Harry\" | \"Hermione\" | \"Ron\": # also possible\n",
    "        print(\"Gryffindor\")\n",
    "    case \"Draco\":\n",
    "        print(\"Slytherin\")\n",
    "    case _:\n",
    "        print(\"Who?\")"
   ]
  },
  {
   "cell_type": "markdown",
   "id": "f2217e58-b5a6-4d9a-b868-2dcbd8cd0a73",
   "metadata": {},
   "source": [
    "### Loops"
   ]
  },
  {
   "cell_type": "markdown",
   "id": "f870e74b-b0ae-4441-af2b-a6365647c76d",
   "metadata": {},
   "source": [
    "Ability to do something again and again."
   ]
  },
  {
   "cell_type": "code",
   "execution_count": 10,
   "id": "e5a04329-00b2-49a3-91a0-a59af851305a",
   "metadata": {},
   "outputs": [
    {
     "name": "stdout",
     "output_type": "stream",
     "text": [
      "meow\n",
      "meow\n",
      "meow\n"
     ]
    }
   ],
   "source": [
    "print(\"meow\")\n",
    "print(\"meow\")\n",
    "print(\"meow\")"
   ]
  },
  {
   "cell_type": "markdown",
   "id": "fefd6536-f15c-4813-a0ca-f6e67da384fc",
   "metadata": {},
   "source": [
    "##### While-Loop"
   ]
  },
  {
   "cell_type": "code",
   "execution_count": 15,
   "id": "b583bb2e-077f-41d6-8b3c-3d146bd005fa",
   "metadata": {},
   "outputs": [
    {
     "name": "stdout",
     "output_type": "stream",
     "text": [
      "2\n",
      "meow\n",
      "1\n",
      "meow\n",
      "0\n",
      "meow\n"
     ]
    }
   ],
   "source": [
    "i = 3\n",
    "while i != 0:\n",
    "    i -= 1 # i = i - 1\n",
    "    print(i)\n",
    "    print(\"meow\")"
   ]
  },
  {
   "cell_type": "code",
   "execution_count": 17,
   "id": "cff623b0-8c88-489b-b3ba-27b145a1b117",
   "metadata": {
    "tags": []
   },
   "outputs": [
    {
     "name": "stdout",
     "output_type": "stream",
     "text": [
      "1\n",
      "meow\n",
      "2\n",
      "meow\n",
      "3\n",
      "meow\n"
     ]
    }
   ],
   "source": [
    "i = 0\n",
    "while i < 3:\n",
    "    i += 1 # i = i + 1\n",
    "    print(i)\n",
    "    print(\"meow\")"
   ]
  },
  {
   "cell_type": "markdown",
   "id": "18941da0-b64f-456d-946a-6975afb0aacc",
   "metadata": {},
   "source": [
    "##### For-Loop"
   ]
  },
  {
   "cell_type": "markdown",
   "id": "37297daa-94b3-48da-85d5-227b5deffaaf",
   "metadata": {},
   "source": [
    "Uses lists which has the ability to contain values"
   ]
  },
  {
   "cell_type": "code",
   "execution_count": 19,
   "id": "4bef4400-fd7a-465c-b35c-b092dedc8b4f",
   "metadata": {
    "tags": []
   },
   "outputs": [
    {
     "name": "stdout",
     "output_type": "stream",
     "text": [
      "0\n",
      "meow\n",
      "1\n",
      "meow\n",
      "2\n",
      "meow\n"
     ]
    }
   ],
   "source": [
    "for i in [0, 1, 2]:\n",
    "    print(i)\n",
    "    print(\"meow\")"
   ]
  },
  {
   "cell_type": "code",
   "execution_count": 20,
   "id": "e78cae3b-849c-4c17-b32f-5f7ebbec7040",
   "metadata": {
    "tags": []
   },
   "outputs": [
    {
     "name": "stdout",
     "output_type": "stream",
     "text": [
      "meow\n",
      "meow\n",
      "meow\n"
     ]
    }
   ],
   "source": [
    "for i in range(3):\n",
    "    print(\"meow\") # easier way to work with big numbers without typing them"
   ]
  },
  {
   "cell_type": "code",
   "execution_count": 25,
   "id": "9f9f03ee-8e6a-4704-a2da-931ee3300fe7",
   "metadata": {
    "tags": []
   },
   "outputs": [
    {
     "name": "stdout",
     "output_type": "stream",
     "text": [
      "0\n",
      "meow\n",
      "1\n",
      "meow\n",
      "2\n",
      "meow\n",
      "3\n",
      "meow\n"
     ]
    }
   ],
   "source": [
    "for i in range(4): # pythonic way if you dont use a variable like i use _ instead\n",
    "    print(i)\n",
    "    print(\"meow\")"
   ]
  },
  {
   "cell_type": "code",
   "execution_count": 35,
   "id": "a75949c3-7e95-4c13-95ab-71c0d9eddce8",
   "metadata": {
    "tags": []
   },
   "outputs": [
    {
     "name": "stdout",
     "output_type": "stream",
     "text": [
      "meow\n",
      "meow\n",
      "meow\n"
     ]
    }
   ],
   "source": [
    "print(\"meow\\n\" * 3, end=\"\")"
   ]
  },
  {
   "cell_type": "code",
   "execution_count": 39,
   "id": "e0784f6f-ff58-4f86-970a-6a942ac1ea38",
   "metadata": {
    "tags": []
   },
   "outputs": [
    {
     "name": "stdin",
     "output_type": "stream",
     "text": [
      "Whats n?  -3\n",
      "Whats n?  0\n",
      "Whats n?  3\n"
     ]
    },
    {
     "name": "stdout",
     "output_type": "stream",
     "text": [
      "meow\n",
      "meow\n",
      "meow\n"
     ]
    }
   ],
   "source": [
    "while True: # way to check the users input until its correct\n",
    "    n = int(input(\"Whats n? \"))\n",
    "    if n <= 0:\n",
    "        continue # stay in the loop and ask again\n",
    "    else:\n",
    "        break # breaks out of the while loop\n",
    "        \n",
    "for _ in range(n):\n",
    "    print(\"meow\")"
   ]
  },
  {
   "cell_type": "code",
   "execution_count": 41,
   "id": "6e46c257-a8df-4674-827b-819294a09cc4",
   "metadata": {
    "tags": []
   },
   "outputs": [
    {
     "name": "stdin",
     "output_type": "stream",
     "text": [
      "Whats n?  2\n"
     ]
    },
    {
     "name": "stdout",
     "output_type": "stream",
     "text": [
      "meow\n",
      "meow\n"
     ]
    }
   ],
   "source": [
    "def main():\n",
    "    number = get_number()\n",
    "    meow(number)\n",
    "    \n",
    "def get_number():\n",
    "    while True:\n",
    "        n = int(input(\"Whats n? \"))\n",
    "        if n > 0:\n",
    "            break\n",
    "    return n\n",
    "\n",
    "def meow(n):\n",
    "    for _ in range(n):\n",
    "        print(\"meow\")\n",
    "        \n",
    "main()"
   ]
  },
  {
   "cell_type": "code",
   "execution_count": 45,
   "id": "1796ab94-ef32-4aa7-8cdd-19748ba517e9",
   "metadata": {
    "tags": []
   },
   "outputs": [
    {
     "name": "stdout",
     "output_type": "stream",
     "text": [
      "Hermione\n",
      "Harry\n",
      "Ron\n"
     ]
    }
   ],
   "source": [
    "students = [\"Hermione\", \"Harry\", \"Ron\"]\n",
    "\n",
    "print(students[0]) # print frist item\n",
    "print(students[1])\n",
    "print(students[2])"
   ]
  },
  {
   "cell_type": "code",
   "execution_count": 49,
   "id": "9566809d-3050-4cb3-a245-7f0fbb7f6542",
   "metadata": {
    "tags": []
   },
   "outputs": [
    {
     "name": "stdout",
     "output_type": "stream",
     "text": [
      "Hermione\n",
      "Harry\n",
      "Ron\n"
     ]
    }
   ],
   "source": [
    "students = [\"Hermione\", \"Harry\", \"Ron\"]\n",
    "\n",
    "for student in students:\n",
    "    print(student)"
   ]
  },
  {
   "cell_type": "code",
   "execution_count": 54,
   "id": "0ab2a863-cf74-472c-8af4-09d10114cfcc",
   "metadata": {
    "tags": []
   },
   "outputs": [
    {
     "name": "stdout",
     "output_type": "stream",
     "text": [
      "1 Hermione\n",
      "2 Harry\n",
      "3 Ron\n"
     ]
    }
   ],
   "source": [
    "students = [\"Hermione\", \"Harry\", \"Ron\"]\n",
    "\n",
    "for i in range(len(students)): # len tells you the length of a list\n",
    "    print(i + 1, students[i])"
   ]
  },
  {
   "cell_type": "markdown",
   "id": "f017e988-a84a-4973-aaa6-49b9a60b5b3d",
   "metadata": {},
   "source": [
    "#### dictionary"
   ]
  },
  {
   "cell_type": "code",
   "execution_count": 56,
   "id": "23d27637-1dcd-4c60-8607-4d25627c99c8",
   "metadata": {
    "tags": []
   },
   "outputs": [
    {
     "name": "stdout",
     "output_type": "stream",
     "text": [
      "Gryffindor\n"
     ]
    }
   ],
   "source": [
    "students = {\n",
    "    \"Hermione\": \"Gryffindor\", \n",
    "    \"Harry\": \"Gryffindor\",\n",
    "    \"Ron\": \"Gryffindor\",\n",
    "    \"Draco\": \"Slytherin\",\n",
    "}\n",
    "# datatype: dict\n",
    "print(students[\"Hermione\"])"
   ]
  },
  {
   "cell_type": "markdown",
   "id": "69d5e82f-2c4c-4f45-b376-dc48eac82101",
   "metadata": {},
   "source": [
    "A Python **dictionary** is like a dictionary in which you **associate words (keys) with their meanings (values)**. You can look up a word (key) to find its meaning (value). In contrast, a list is like a numbered list of elements where you access each element based on its position in the list without using keys."
   ]
  },
  {
   "cell_type": "code",
   "execution_count": 58,
   "id": "5f149b46-600d-43d8-9661-f38c26ee7ccb",
   "metadata": {
    "tags": []
   },
   "outputs": [
    {
     "name": "stdout",
     "output_type": "stream",
     "text": [
      "Hermione, Gryffindor\n",
      "Harry, Gryffindor\n",
      "Ron, Gryffindor\n",
      "Draco, Slytherin\n"
     ]
    }
   ],
   "source": [
    "students = {\n",
    "    \"Hermione\": \"Gryffindor\", \n",
    "    \"Harry\": \"Gryffindor\",\n",
    "    \"Ron\": \"Gryffindor\",\n",
    "    \"Draco\": \"Slytherin\",\n",
    "}\n",
    "\n",
    "for student in students:\n",
    "    print(student, students[student], sep=\", \")"
   ]
  },
  {
   "cell_type": "code",
   "execution_count": 65,
   "id": "6fe7378a-a7c8-4040-bf08-2162bdd91710",
   "metadata": {
    "tags": []
   },
   "outputs": [
    {
     "name": "stdout",
     "output_type": "stream",
     "text": [
      "Hermione, Gryffindor, Otter\n",
      "Harry, Gryffindor, Stag\n",
      "Ron, Gryffindor, Jack Russell terrier\n",
      "Draco, Slytherin, None\n"
     ]
    }
   ],
   "source": [
    "students = [\n",
    "    {\"name\": \"Hermione\", \"house\": \"Gryffindor\", \"patronus\": \"Otter\"}, # key = name, value = Hermione\n",
    "    {\"name\": \"Harry\", \"house\": \"Gryffindor\", \"patronus\": \"Stag\"},\n",
    "    {\"name\": \"Ron\", \"house\": \"Gryffindor\", \"patronus\": \"Jack Russell terrier\"},\n",
    "    {\"name\": \"Draco\", \"house\": \"Slytherin\", \"patronus\": None} # None is a Value with no Value\n",
    "]\n",
    "\n",
    "for student in students:\n",
    "    print(student[\"name\"], student[\"house\"], student[\"patronus\"], sep=\", \")"
   ]
  },
  {
   "cell_type": "markdown",
   "id": "f7968be3-9005-4dd8-b346-7bd29a9569ec",
   "metadata": {},
   "source": [
    "### Game-Project"
   ]
  },
  {
   "cell_type": "markdown",
   "id": "bf99295f-05c9-4ab8-8186-25c38c4cbf97",
   "metadata": {},
   "source": [
    "A wall is programmed over which a character can jump over it."
   ]
  },
  {
   "cell_type": "code",
   "execution_count": 1,
   "id": "0a2f4f9f-8f9f-4f09-a291-f4747bfe286a",
   "metadata": {},
   "outputs": [
    {
     "name": "stdout",
     "output_type": "stream",
     "text": [
      "#\n",
      "#\n",
      "#\n"
     ]
    }
   ],
   "source": [
    "for _ in range(3):\n",
    "    print(\"#\")"
   ]
  },
  {
   "cell_type": "code",
   "execution_count": 4,
   "id": "f544f609-a2c1-447f-8634-fe4e20892b5e",
   "metadata": {},
   "outputs": [
    {
     "name": "stdout",
     "output_type": "stream",
     "text": [
      "#\n",
      "#\n",
      "#\n"
     ]
    }
   ],
   "source": [
    "def main():\n",
    "    print_column(3)\n",
    "    \n",
    "    \n",
    "def print_column(height):\n",
    "        print(\"#\\n\" * height, end=\"\")\n",
    "        \n",
    "main()"
   ]
  },
  {
   "cell_type": "code",
   "execution_count": 5,
   "id": "8322dc8f-565a-40e1-a8fa-98d8a68f9571",
   "metadata": {},
   "outputs": [
    {
     "name": "stdout",
     "output_type": "stream",
     "text": [
      "????\n"
     ]
    }
   ],
   "source": [
    "def main():\n",
    "    print_row(4)\n",
    "    \n",
    "def print_row(width):\n",
    "    print(\"?\" * width) # pretty way to avoid a loop to reduce storage space\n",
    "    \n",
    "main()"
   ]
  },
  {
   "cell_type": "code",
   "execution_count": 6,
   "id": "daaac592-dcfa-4f45-a93d-eeaf22be1698",
   "metadata": {
    "tags": []
   },
   "outputs": [
    {
     "name": "stdout",
     "output_type": "stream",
     "text": [
      "###\n",
      "###\n",
      "###\n"
     ]
    }
   ],
   "source": [
    "def main():\n",
    "    print_square(3)\n",
    "    \n",
    "def print_square(size):\n",
    "    # for each row in square\n",
    "    for i in range(size):\n",
    "        # for each brick in row\n",
    "        for j in range(size):\n",
    "            # print brick\n",
    "            print(\"#\", end=\"\")\n",
    "        print()\n",
    "    \n",
    "main()"
   ]
  },
  {
   "cell_type": "code",
   "execution_count": 11,
   "id": "6fb27c9b-847e-4069-a772-cf1743431398",
   "metadata": {
    "tags": []
   },
   "outputs": [
    {
     "name": "stdout",
     "output_type": "stream",
     "text": [
      "###\n",
      "###\n",
      "###\n"
     ]
    }
   ],
   "source": [
    "def main():\n",
    "    print_square(3)\n",
    "    \n",
    "def print_square(size):\n",
    "    for i in range(size):\n",
    "        print_row(size)\n",
    "    \n",
    "def print_row(width):\n",
    "    print(\"#\" * width)\n",
    "\n",
    "main()"
   ]
  },
  {
   "cell_type": "markdown",
   "id": "0dc6b686-d2ea-4d2b-85ee-d631380d97bf",
   "metadata": {},
   "source": [
    "### Exception"
   ]
  },
  {
   "cell_type": "markdown",
   "id": "375c29f8-4a97-43e5-892d-eec1278a67f4",
   "metadata": {},
   "source": [
    "Have the ability to catch errors and for instance give the user a message to change and use correct input.\n",
    "\n",
    "**try** and **except** try code in a secure environment and informs the user to prevent a crash of a program"
   ]
  },
  {
   "cell_type": "code",
   "execution_count": 73,
   "id": "87e542a5-05fa-44cf-bc51-3071432f0d3d",
   "metadata": {},
   "outputs": [
    {
     "name": "stdin",
     "output_type": "stream",
     "text": [
      "Whats x?  cat\n"
     ]
    },
    {
     "ename": "ValueError",
     "evalue": "invalid literal for int() with base 10: 'cat'",
     "output_type": "error",
     "traceback": [
      "\u001b[0;31m---------------------------------------------------------------------------\u001b[0m",
      "\u001b[0;31mValueError\u001b[0m                                Traceback (most recent call last)",
      "Cell \u001b[0;32mIn[73], line 1\u001b[0m\n\u001b[0;32m----> 1\u001b[0m x \u001b[38;5;241m=\u001b[39m \u001b[38;5;28mint\u001b[39m(\u001b[38;5;28minput\u001b[39m(\u001b[38;5;124m\"\u001b[39m\u001b[38;5;124mWhats x? \u001b[39m\u001b[38;5;124m\"\u001b[39m))\n\u001b[1;32m      2\u001b[0m \u001b[38;5;28mprint\u001b[39m(\u001b[38;5;124mf\u001b[39m\u001b[38;5;124m\"\u001b[39m\u001b[38;5;124mx is \u001b[39m\u001b[38;5;132;01m{\u001b[39;00mx\u001b[38;5;132;01m}\u001b[39;00m\u001b[38;5;124m\"\u001b[39m)\n",
      "\u001b[0;31mValueError\u001b[0m: invalid literal for int() with base 10: 'cat'"
     ]
    }
   ],
   "source": [
    "x = int(input(\"Whats x? \"))\n",
    "print(f\"x is {x}\")\n"
   ]
  },
  {
   "cell_type": "markdown",
   "id": "6136b052-b2f5-44ac-bc97-596b3d001ffc",
   "metadata": {},
   "source": [
    "**ValueError** Using a wrong value like a string in a int"
   ]
  },
  {
   "cell_type": "code",
   "execution_count": 79,
   "id": "b8aa92e3-96c2-4e38-b405-ed82ea0b9034",
   "metadata": {},
   "outputs": [
    {
     "name": "stdin",
     "output_type": "stream",
     "text": [
      "Whats x?  cat\n"
     ]
    },
    {
     "name": "stdout",
     "output_type": "stream",
     "text": [
      "x is not an integer\n"
     ]
    }
   ],
   "source": [
    "try:\n",
    "    x = int(input(\"Whats x? \"))\n",
    "    print(f\"x is {x}\")\n",
    "    \n",
    "except ValueError:\n",
    "    print(\"x is not an integer\")\n"
   ]
  },
  {
   "cell_type": "code",
   "execution_count": 83,
   "id": "e0bf1da1-a83a-494d-bfb2-1d59daf7baf2",
   "metadata": {},
   "outputs": [
    {
     "name": "stdin",
     "output_type": "stream",
     "text": [
      "Whats x?  cat\n"
     ]
    },
    {
     "name": "stdout",
     "output_type": "stream",
     "text": [
      "x is not an integer\n"
     ]
    },
    {
     "ename": "NameError",
     "evalue": "name 'x' is not defined",
     "output_type": "error",
     "traceback": [
      "\u001b[0;31m---------------------------------------------------------------------------\u001b[0m",
      "\u001b[0;31mNameError\u001b[0m                                 Traceback (most recent call last)",
      "Cell \u001b[0;32mIn[83], line 6\u001b[0m\n\u001b[1;32m      3\u001b[0m \u001b[38;5;28;01mexcept\u001b[39;00m \u001b[38;5;167;01mValueError\u001b[39;00m:\n\u001b[1;32m      4\u001b[0m     \u001b[38;5;28mprint\u001b[39m(\u001b[38;5;124m\"\u001b[39m\u001b[38;5;124mx is not an integer\u001b[39m\u001b[38;5;124m\"\u001b[39m)\n\u001b[0;32m----> 6\u001b[0m \u001b[38;5;28mprint\u001b[39m(\u001b[38;5;124mf\u001b[39m\u001b[38;5;124m\"\u001b[39m\u001b[38;5;124mx is \u001b[39m\u001b[38;5;132;01m{\u001b[39;00mx\u001b[38;5;132;01m}\u001b[39;00m\u001b[38;5;124m\"\u001b[39m)\n",
      "\u001b[0;31mNameError\u001b[0m: name 'x' is not defined"
     ]
    }
   ],
   "source": [
    "try:\n",
    "    x = int(input(\"Whats x? \"))\n",
    "except ValueError:\n",
    "    print(\"x is not an integer\")\n",
    "    \n",
    "print(f\"x is {x}\") # x isnt defined because the ValueError is catched and the try-statement wasnt executed"
   ]
  },
  {
   "cell_type": "markdown",
   "id": "e2347dbb-266b-49c7-bb36-c8974627ebba",
   "metadata": {},
   "source": [
    "**NameError** Using a name or variable that isnt defined"
   ]
  },
  {
   "cell_type": "code",
   "execution_count": 85,
   "id": "d51845ee-ef16-4d24-93b3-3625eba47aab",
   "metadata": {
    "tags": []
   },
   "outputs": [
    {
     "name": "stdin",
     "output_type": "stream",
     "text": [
      "Whats x?  cat\n"
     ]
    },
    {
     "name": "stdout",
     "output_type": "stream",
     "text": [
      "x is not an integer\n"
     ]
    }
   ],
   "source": [
    "try:\n",
    "    x = int(input(\"Whats x? \"))\n",
    "except ValueError:\n",
    "    print(\"x is not an integer\")\n",
    "else:\n",
    "    print(f\"x is {x}\") # print x will only be executed if the value is correct"
   ]
  },
  {
   "cell_type": "code",
   "execution_count": 86,
   "id": "86f068f1-faa6-43b9-bfee-b5004867c845",
   "metadata": {
    "tags": []
   },
   "outputs": [
    {
     "name": "stdin",
     "output_type": "stream",
     "text": [
      "Whats x?  cat\n"
     ]
    },
    {
     "name": "stdout",
     "output_type": "stream",
     "text": [
      "x is not an integer\n"
     ]
    },
    {
     "name": "stdin",
     "output_type": "stream",
     "text": [
      "Whats x?  23\n"
     ]
    },
    {
     "name": "stdout",
     "output_type": "stream",
     "text": [
      "x is 23\n"
     ]
    }
   ],
   "source": [
    "while True: # ask until the user gives correct input\n",
    "    try:\n",
    "        x = int(input(\"Whats x? \"))\n",
    "    except ValueError:\n",
    "        print(\"x is not an integer\")\n",
    "    else:\n",
    "        break\n",
    "\n",
    "print(f\"x is {x}\")"
   ]
  },
  {
   "cell_type": "code",
   "execution_count": 89,
   "id": "8a63abc9-bb6b-4971-89f5-4c23248b2100",
   "metadata": {
    "tags": []
   },
   "outputs": [
    {
     "name": "stdin",
     "output_type": "stream",
     "text": [
      "Whats x?  cat\n"
     ]
    },
    {
     "name": "stdout",
     "output_type": "stream",
     "text": [
      "x is not an integer\n"
     ]
    },
    {
     "name": "stdin",
     "output_type": "stream",
     "text": [
      "Whats x?  dog\n"
     ]
    },
    {
     "name": "stdout",
     "output_type": "stream",
     "text": [
      "x is not an integer\n"
     ]
    },
    {
     "name": "stdin",
     "output_type": "stream",
     "text": [
      "Whats x?  50\n"
     ]
    },
    {
     "name": "stdout",
     "output_type": "stream",
     "text": [
      "x is 50\n"
     ]
    }
   ],
   "source": [
    "def main():\n",
    "    x = get_int()\n",
    "    print(f\"x is {x}\")\n",
    "    # Now the whole process has been shrunk down to 2 lines\n",
    "\n",
    "def get_int(): \n",
    "    while True: \n",
    "        try:\n",
    "            x = int(input(\"Whats x? \"))\n",
    "        except ValueError:\n",
    "            print(\"x is not an integer\")\n",
    "        else:\n",
    "            break # just stop loops\n",
    "            \n",
    "    return x # breaks out and returns a value out of a function\n",
    "\n",
    "\n",
    "main()"
   ]
  },
  {
   "cell_type": "code",
   "execution_count": 93,
   "id": "3beeee5d-cc07-4218-8fd7-d5dd3fe75d33",
   "metadata": {
    "tags": []
   },
   "outputs": [
    {
     "name": "stdin",
     "output_type": "stream",
     "text": [
      "Whats x?  cat\n",
      "Whats x?  bird\n",
      "Whats x?  36\n"
     ]
    },
    {
     "name": "stdout",
     "output_type": "stream",
     "text": [
      "x is 36\n"
     ]
    }
   ],
   "source": [
    "def main():\n",
    "    x = get_int()\n",
    "    print(f\"x is {x}\")\n",
    "\n",
    "def get_int(): \n",
    "    while True: \n",
    "        try:\n",
    "            return int(input(\"Whats x? \"))\n",
    "        except ValueError:\n",
    "            pass # another way to implement the function but without telling the user what the error is\n",
    "                 # only pass if there is an error\n",
    "            \n",
    "main()"
   ]
  },
  {
   "cell_type": "code",
   "execution_count": 94,
   "id": "82b29870-7611-46eb-a2a3-76cbd44e83cf",
   "metadata": {
    "tags": []
   },
   "outputs": [
    {
     "name": "stdin",
     "output_type": "stream",
     "text": [
      "Whats x?  25\n"
     ]
    },
    {
     "name": "stdout",
     "output_type": "stream",
     "text": [
      "x is 25\n"
     ]
    }
   ],
   "source": [
    "def main():\n",
    "    x = get_int(\"Whats x? \")\n",
    "    print(f\"x is {x}\")\n",
    "\n",
    "def get_int(prompt): \n",
    "    while True: \n",
    "        try:\n",
    "            return int(input(prompt)) # the code it more reuseable\n",
    "        except ValueError:\n",
    "            pass\n",
    "            \n",
    "main()"
   ]
  },
  {
   "cell_type": "markdown",
   "id": "a294ebeb-2d5a-40b9-89cf-8083dfc677d3",
   "metadata": {
    "tags": []
   },
   "source": [
    "### libraries"
   ]
  },
  {
   "cell_type": "markdown",
   "id": "e450825e-4592-4434-8e1d-326e7d3e7995",
   "metadata": {},
   "source": [
    "modules allow others to share code and use it more efficiently"
   ]
  },
  {
   "cell_type": "markdown",
   "id": "86b2e372-9555-431a-a4d9-4eefe3742c4b",
   "metadata": {},
   "source": [
    "**random** gives you the option to use a random number, e.g. flip a coin\n",
    "    \n",
    "- docs.python.org/3/library/random.html"
   ]
  },
  {
   "cell_type": "code",
   "execution_count": 97,
   "id": "72402f0c-1f3d-45dc-8688-622062124264",
   "metadata": {
    "tags": []
   },
   "outputs": [
    {
     "name": "stdout",
     "output_type": "stream",
     "text": [
      "heads\n"
     ]
    }
   ],
   "source": [
    "import random\n",
    "\n",
    "coin = random.choice([\"heads\", \"tails\"]) # gives you a 50 / 50 probability\n",
    "print(coin)"
   ]
  },
  {
   "cell_type": "code",
   "execution_count": 100,
   "id": "ad21f38e-3d7d-467f-bb1a-0feceb7cd08a",
   "metadata": {
    "tags": []
   },
   "outputs": [
    {
     "name": "stdout",
     "output_type": "stream",
     "text": [
      "heads\n"
     ]
    }
   ],
   "source": [
    "from random import choice # import just a part of a library\n",
    "\n",
    "coin = random.choice([\"heads\", \"tails\"])\n",
    "print(coin)"
   ]
  },
  {
   "cell_type": "code",
   "execution_count": 103,
   "id": "9d6c4f74-89d8-4f04-83cb-3895682b51fd",
   "metadata": {
    "tags": []
   },
   "outputs": [
    {
     "name": "stdout",
     "output_type": "stream",
     "text": [
      "2\n"
     ]
    }
   ],
   "source": [
    "import random\n",
    "\n",
    "number = random.randint(1, 10) # prints a random integer between 1 and 10\n",
    "print(number)"
   ]
  },
  {
   "cell_type": "code",
   "execution_count": 107,
   "id": "69f71ff1-3788-4513-b209-987015391d55",
   "metadata": {
    "tags": []
   },
   "outputs": [
    {
     "name": "stdout",
     "output_type": "stream",
     "text": [
      "['king', 'queen', 'jack']\n",
      "['king', 'queen', 'jack']\n",
      "['king', 'queen', 'jack']\n"
     ]
    }
   ],
   "source": [
    "import random\n",
    "\n",
    "cards = [\"jack\", \"queen\", \"king\"]\n",
    "random.shuffle(cards)\n",
    "for card in cards:\n",
    "    print(cards)"
   ]
  },
  {
   "cell_type": "markdown",
   "id": "cd75ea3f-8039-4c78-852e-fddecf875cc3",
   "metadata": {},
   "source": [
    "### statistic"
   ]
  },
  {
   "cell_type": "markdown",
   "id": "83cc2c10-fe6e-4c49-bebf-8862c574475e",
   "metadata": {},
   "source": [
    "    - The module has the function of analyzing data\n",
    "    - docs.python.org/3/library/statistics.html"
   ]
  },
  {
   "cell_type": "code",
   "execution_count": 111,
   "id": "6e9ba309-ddd3-4d0d-bd7c-71f3fbd841ac",
   "metadata": {
    "tags": []
   },
   "outputs": [
    {
     "name": "stdout",
     "output_type": "stream",
     "text": [
      "95\n"
     ]
    }
   ],
   "source": [
    "import statistics\n",
    "\n",
    "print(statistics.mean([100, 90])) # returns the average of the input"
   ]
  },
  {
   "cell_type": "markdown",
   "id": "f95106d0-470f-457e-9f9c-29096f00fc11",
   "metadata": {},
   "source": [
    "**command-line arguments**"
   ]
  },
  {
   "cell_type": "markdown",
   "id": "806705a1-bdd0-45be-99fc-cd95e4eea665",
   "metadata": {},
   "source": [
    "Function of giving input in to a programm from the terminal"
   ]
  },
  {
   "cell_type": "markdown",
   "id": "2559663d-c447-4016-b0ee-470c0dfb925b",
   "metadata": {},
   "source": [
    "## => sys\n",
    "\n",
    "    - contains all functions that are specific to the system\n",
    "    - docs.python.org/3/library/sys.html\n",
    "    \n",
    "    > sys.argv provide a list of elements from the terminal"
   ]
  },
  {
   "cell_type": "code",
   "execution_count": 120,
   "id": "f4a1bbbf-43bc-4777-a9b3-eba7f9375401",
   "metadata": {
    "tags": []
   },
   "outputs": [
    {
     "name": "stdout",
     "output_type": "stream",
     "text": [
      "hello, my name is /Users/oliverpolak/anaconda3/lib/python3.11/site-packages/ipykernel_launcher.py\n"
     ]
    }
   ],
   "source": [
    "import sys\n",
    "\n",
    "print(\"hello, my name is\", sys.argv[0]) # 0 is the name of the program what you are using\n",
    "                                        # UseCase could be: python name.py David "
   ]
  },
  {
   "cell_type": "code",
   "execution_count": 118,
   "id": "c66d1e8a-c68a-493c-92c5-b41977127487",
   "metadata": {
    "tags": []
   },
   "outputs": [
    {
     "ename": "IndexError",
     "evalue": "list index out of range",
     "output_type": "error",
     "traceback": [
      "\u001b[0;31m---------------------------------------------------------------------------\u001b[0m",
      "\u001b[0;31mIndexError\u001b[0m                                Traceback (most recent call last)",
      "Cell \u001b[0;32mIn[118], line 3\u001b[0m\n\u001b[1;32m      1\u001b[0m \u001b[38;5;28;01mimport\u001b[39;00m \u001b[38;5;21;01msys\u001b[39;00m\n\u001b[0;32m----> 3\u001b[0m \u001b[38;5;28mprint\u001b[39m(\u001b[38;5;124m\"\u001b[39m\u001b[38;5;124mhello, my name is\u001b[39m\u001b[38;5;124m\"\u001b[39m, sys\u001b[38;5;241m.\u001b[39margv[\u001b[38;5;241m4\u001b[39m])\n",
      "\u001b[0;31mIndexError\u001b[0m: list index out of range"
     ]
    }
   ],
   "source": [
    "import sys\n",
    "\n",
    "print(\"hello, my name is\", sys.argv[4]) # the list hasnt enough parameters"
   ]
  },
  {
   "cell_type": "code",
   "execution_count": 119,
   "id": "b38c4729-6caf-4ff0-86f6-55f8f876dcdd",
   "metadata": {
    "tags": []
   },
   "outputs": [
    {
     "name": "stdout",
     "output_type": "stream",
     "text": [
      "Too few arguments\n"
     ]
    }
   ],
   "source": [
    "import sys\n",
    "\n",
    "try:\n",
    "    print(\"hello, my name is\", sys.argv[4])\n",
    "except IndexError:\n",
    "    print(\"Too few arguments\")"
   ]
  },
  {
   "cell_type": "code",
   "execution_count": 125,
   "id": "1222c8dd-be84-4189-ba5f-b51816293639",
   "metadata": {
    "tags": []
   },
   "outputs": [
    {
     "name": "stdout",
     "output_type": "stream",
     "text": [
      "Too many arguments\n"
     ]
    }
   ],
   "source": [
    "import sys\n",
    "\n",
    "# check for errors\n",
    "if len(sys.argv) < 2:\n",
    "    print(\"Too few arguments\")\n",
    "elif len(sys.argv) > 2:\n",
    "    print(\"Too many arguments\")\n",
    "# print name tags\n",
    "else:\n",
    "    print(\"Hello, my name is \", sys.argv[1]) # start like: python name.py David\n",
    "                                    \n",
    "# Output:\n",
    "#   - Hello, my name is David\n",
    "\n",
    "#   - Too many arguments => python name.py David Malan"
   ]
  },
  {
   "cell_type": "code",
   "execution_count": 126,
   "id": "88483e14-ac83-4d86-870d-a00b9812efbb",
   "metadata": {
    "tags": []
   },
   "outputs": [
    {
     "ename": "SystemExit",
     "evalue": "Too many arguments",
     "output_type": "error",
     "traceback": [
      "An exception has occurred, use %tb to see the full traceback.\n",
      "\u001b[0;31mSystemExit\u001b[0m\u001b[0;31m:\u001b[0m Too many arguments\n"
     ]
    },
    {
     "name": "stderr",
     "output_type": "stream",
     "text": [
      "/Users/oliverpolak/anaconda3/lib/python3.11/site-packages/IPython/core/interactiveshell.py:3534: UserWarning: To exit: use 'exit', 'quit', or Ctrl-D.\n",
      "  warn(\"To exit: use 'exit', 'quit', or Ctrl-D.\", stacklevel=1)\n"
     ]
    }
   ],
   "source": [
    "import sys\n",
    "\n",
    "if len(sys.argv) < 2:\n",
    "    sys.exit(\"Too few arguments\") # exit the program\n",
    "elif len(sys.argv) > 2:\n",
    "    sys.exit(\"Too many arguments\") # now we can be sure until we reach print all conditions are checked\n",
    "\n",
    "print(\"Hello, my name is \", sys.argv[1])"
   ]
  },
  {
   "cell_type": "code",
   "execution_count": 128,
   "id": "b30cb677-50cf-4124-be0d-042bd0bbcd42",
   "metadata": {
    "tags": []
   },
   "outputs": [
    {
     "name": "stdout",
     "output_type": "stream",
     "text": [
      "Hello, my name is /Users/oliverpolak/anaconda3/lib/python3.11/site-packages/ipykernel_launcher.py\n",
      "Hello, my name is -f\n",
      "Hello, my name is /Users/oliverpolak/Library/Jupyter/runtime/kernel-3440c5c0-3470-400b-9eaf-df9064af0897.json\n"
     ]
    }
   ],
   "source": [
    "import sys\n",
    "\n",
    "if len(sys.argv)<2:\n",
    "    sys.exit(\"Too few arguments\")\n",
    "    \n",
    "for arg in sys.argv:\n",
    "    print(\"Hello, my name is\", arg) # solution for python name.py David Carter Rongxin"
   ]
  },
  {
   "cell_type": "code",
   "execution_count": 131,
   "id": "b0eb6469-a6ab-402f-b879-810067b113fb",
   "metadata": {
    "tags": []
   },
   "outputs": [
    {
     "name": "stdout",
     "output_type": "stream",
     "text": [
      "Hello, my name is -f\n",
      "Hello, my name is /Users/oliverpolak/Library/Jupyter/runtime/kernel-3440c5c0-3470-400b-9eaf-df9064af0897.json\n"
     ]
    }
   ],
   "source": [
    "import sys\n",
    "\n",
    "if len(sys.argv)<2:\n",
    "    sys.exit(\"Too few arguments\")\n",
    "    \n",
    "for arg in sys.argv[1:]: # the first element wont be print out just some for example not the name of the program itselt\n",
    "                         # it starts with element 1 and not 0\n",
    "    print(\"Hello, my name is\", arg)"
   ]
  },
  {
   "cell_type": "markdown",
   "id": "12da0c21-1ad4-474a-8a74-df3550e8d7fe",
   "metadata": {},
   "source": [
    "### Packages"
   ]
  },
  {
   "cell_type": "markdown",
   "id": "20d7312d-b265-4553-ba7a-534b0ecef8a7",
   "metadata": {},
   "source": [
    "A package is a third party library\n",
    "    \n",
    "    - pypi.org (website to download packages)\n",
    "    - pypi.org/project/cowsay\n",
    "    - pip is a package installer especially for python"
   ]
  },
  {
   "cell_type": "code",
   "execution_count": 132,
   "id": "6f28782d-3c84-4fdb-99fe-02e407be5f67",
   "metadata": {
    "tags": []
   },
   "outputs": [
    {
     "name": "stdout",
     "output_type": "stream",
     "text": [
      "Collecting cowsay\n",
      "  Obtaining dependency information for cowsay from https://files.pythonhosted.org/packages/f1/13/63c0a02c44024ee16f664e0b36eefeb22d54e93531630bd99e237986f534/cowsay-6.1-py3-none-any.whl.metadata\n",
      "  Downloading cowsay-6.1-py3-none-any.whl.metadata (5.6 kB)\n",
      "Downloading cowsay-6.1-py3-none-any.whl (25 kB)\n",
      "Installing collected packages: cowsay\n",
      "Successfully installed cowsay-6.1\n",
      "Note: you may need to restart the kernel to use updated packages.\n"
     ]
    }
   ],
   "source": [
    "pip install cowsay"
   ]
  },
  {
   "cell_type": "code",
   "execution_count": 16,
   "id": "38485e01-1509-45f5-a2bb-a47972ee7d2b",
   "metadata": {
    "tags": []
   },
   "outputs": [
    {
     "name": "stdout",
     "output_type": "stream",
     "text": [
      "  _________\n",
      "| hello, -f |\n",
      "  =========\n",
      "         \\\n",
      "          \\\n",
      "            ^__^\n",
      "            (oo)\\_______\n",
      "            (__)\\       )\\/\\\n",
      "                ||----w |\n",
      "                ||     ||\n"
     ]
    }
   ],
   "source": [
    "import cowsay\n",
    "import sys\n",
    "\n",
    "if len(sys.argv) >= 2:\n",
    "    cowsay.cow(\"hello, \" + sys.argv[1]) # concatenate instead of a comma (correct input in the terminal: python say.py David)"
   ]
  },
  {
   "cell_type": "code",
   "execution_count": 17,
   "id": "f6f8b0af-f8df-4508-a889-740d7be9a919",
   "metadata": {
    "tags": []
   },
   "outputs": [
    {
     "name": "stdout",
     "output_type": "stream",
     "text": [
      "  _________\n",
      "| hello, -f |\n",
      "  =========\n",
      "                \\\n",
      "                 \\\n",
      "                  \\\n",
      "                   \\\n",
      "                      .-=-==--==--.\n",
      "                ..-==\"  ,'o`)      `.\n",
      "              ,'         `\"'         \\\n",
      "             :  (                     `.__...._\n",
      "             |                  )    /         `-=-.\n",
      "             :       ,vv.-._   /    /               `---==-._\n",
      "              \\/\\/\\/VV ^ d88`;'    /                         `.\n",
      "                  ``  ^/d88P!'    /             ,              `._\n",
      "                     ^/    !'   ,.      ,      /                  \"-,,__,,--'\"\"\"\"-.\n",
      "                    ^/    !'  ,'  \\ . .(      (         _           )  ) ) ) ))_,-.\\\n",
      "                   ^(__ ,!',\"'   ;:+.:%:a.     \\:.. . ,'          )  )  ) ) ,\"'    '\n",
      "                   ',,,'','     /o:::\":%:%a.    \\:.:.:         .    )  ) _,'\n",
      "                    \"\"\"'       ;':::'' `+%%%a._  \\%:%|         ;.). _,-\"\"\n",
      "                           ,-='_.-'      ``:%::)  )%:|        /:._,\"\n",
      "                          (/(/\"           ,\" ,'_,'%%%:       (_,'\n",
      "                                         (  (//(`.___;        \\\n",
      "                                          \\     \\    `         `\n",
      "                                           `.    `.   `.        :\n",
      "                                             \\. . .\\    : . . . :\n",
      "                                              \\. . .:    `.. . .:\n",
      "                                               `..:.:\\     \\:...\\\n",
      "                                                ;:.:.;      ::...:\n",
      "                                                ):%::       :::::;\n",
      "                                            __,::%:(        :::::\n",
      "                                         ,;:%%%%%%%:        ;:%::\n",
      "                                           ;,--\"\"-.`\\  ,=--':%:%:\\\n",
      "                                          /\"       \"| /-\".:%%%%%%%\\\n",
      "                                                          ;,-\"'`)%%)\n",
      "                                                         /\"      \"|\n"
     ]
    }
   ],
   "source": [
    "import cowsay\n",
    "import sys\n",
    "\n",
    "if len(sys.argv) >= 2:\n",
    "    cowsay.trex(\"hello, \" + sys.argv[1])"
   ]
  },
  {
   "cell_type": "markdown",
   "id": "1a9a0ca6-0ca8-41c8-b0e3-ddf5a98b2938",
   "metadata": {},
   "source": [
    "### API Application Program Interface"
   ]
  },
  {
   "cell_type": "markdown",
   "id": "6f60844a-8ea6-4323-8ed5-7583ec16f97e",
   "metadata": {},
   "source": [
    "**requests** allows you to make web-reqeusts with python code\n",
    "    \n",
    "    - pypi.org/project/requests"
   ]
  },
  {
   "cell_type": "code",
   "execution_count": 18,
   "id": "80926ac7-f46d-4652-b45a-b29bb0e59ba0",
   "metadata": {
    "tags": []
   },
   "outputs": [
    {
     "name": "stdout",
     "output_type": "stream",
     "text": [
      "Requirement already satisfied: requests in /Users/oliverpolak/anaconda3/lib/python3.11/site-packages (2.31.0)\n",
      "Requirement already satisfied: charset-normalizer<4,>=2 in /Users/oliverpolak/anaconda3/lib/python3.11/site-packages (from requests) (2.0.4)\n",
      "Requirement already satisfied: idna<4,>=2.5 in /Users/oliverpolak/anaconda3/lib/python3.11/site-packages (from requests) (3.4)\n",
      "Requirement already satisfied: urllib3<3,>=1.21.1 in /Users/oliverpolak/anaconda3/lib/python3.11/site-packages (from requests) (1.26.16)\n",
      "Requirement already satisfied: certifi>=2017.4.17 in /Users/oliverpolak/anaconda3/lib/python3.11/site-packages (from requests) (2023.7.22)\n",
      "Note: you may need to restart the kernel to use updated packages.\n"
     ]
    }
   ],
   "source": [
    "pip install requests"
   ]
  },
  {
   "cell_type": "code",
   "execution_count": null,
   "id": "0d91268a-0c12-4339-b507-e70158ffb877",
   "metadata": {},
   "outputs": [],
   "source": [
    "import requests\n",
    "import sys\n",
    "\n",
    "if len(sys.argv) != 2: # check for name of a file and a band\n",
    "    sys.exit()\n",
    "    \n",
    "response = requests.get(\"https://itunes.apple.com/search?entity=song&limit=1&term=\" + sys.argv[1])\n",
    "print(response.json())"
   ]
  },
  {
   "cell_type": "code",
   "execution_count": 30,
   "id": "15a54a11-5ea6-41ce-88bb-832499963459",
   "metadata": {
    "tags": []
   },
   "outputs": [
    {
     "name": "stdin",
     "output_type": "stream",
     "text": [
      "Type your band.  weezer\n"
     ]
    },
    {
     "name": "stdout",
     "output_type": "stream",
     "text": [
      "{'resultCount': 1, 'results': [{'wrapperType': 'track', 'kind': 'song', 'artistId': 115234, 'collectionId': 1440878798, 'trackId': 1440879325, 'artistName': 'Weezer', 'collectionName': 'Weezer', 'trackName': 'Buddy Holly', 'collectionCensoredName': 'Weezer', 'trackCensoredName': 'Buddy Holly', 'artistViewUrl': 'https://music.apple.com/us/artist/weezer/115234?uo=4', 'collectionViewUrl': 'https://music.apple.com/us/album/buddy-holly/1440878798?i=1440879325&uo=4', 'trackViewUrl': 'https://music.apple.com/us/album/buddy-holly/1440878798?i=1440879325&uo=4', 'previewUrl': 'https://audio-ssl.itunes.apple.com/itunes-assets/AudioPreview112/v4/f0/ba/a8/f0baa81a-7449-c490-f43a-b5c6e3609e3f/mzaf_3988310882581261442.plus.aac.p.m4a', 'artworkUrl30': 'https://is1-ssl.mzstatic.com/image/thumb/Music125/v4/fc/74/67/fc74674a-1eb0-d50d-33fe-215caee529d1/16UMGIM52971.rgb.jpg/30x30bb.jpg', 'artworkUrl60': 'https://is1-ssl.mzstatic.com/image/thumb/Music125/v4/fc/74/67/fc74674a-1eb0-d50d-33fe-215caee529d1/16UMGIM52971.rgb.jpg/60x60bb.jpg', 'artworkUrl100': 'https://is1-ssl.mzstatic.com/image/thumb/Music125/v4/fc/74/67/fc74674a-1eb0-d50d-33fe-215caee529d1/16UMGIM52971.rgb.jpg/100x100bb.jpg', 'collectionPrice': 10.99, 'trackPrice': 1.29, 'releaseDate': '1994-01-01T12:00:00Z', 'collectionExplicitness': 'notExplicit', 'trackExplicitness': 'notExplicit', 'discCount': 1, 'discNumber': 1, 'trackCount': 10, 'trackNumber': 4, 'trackTimeMillis': 159587, 'country': 'USA', 'currency': 'USD', 'primaryGenreName': 'Pop', 'isStreamable': True}]}\n"
     ]
    }
   ],
   "source": [
    "# executable version in this JupyterLab\n",
    "def main():\n",
    "    url = itunes_search()\n",
    "    print(url)\n",
    "\n",
    "def itunes_search():\n",
    "    import requests\n",
    "    import sys\n",
    "    band = input(\"Type your band. \")\n",
    "            \n",
    "    response = requests.get(\"https://itunes.apple.com/search?entity=song&limit=1&term=\" + band)\n",
    "    return response.json()\n",
    "\n",
    "    \n",
    "main()"
   ]
  },
  {
   "cell_type": "markdown",
   "id": "3e1456b8-82cf-4132-ad1c-14eb15c7279b",
   "metadata": {},
   "source": [
    "### json formatter\n",
    "    - docs.python.org/3/library/json.html"
   ]
  },
  {
   "cell_type": "code",
   "execution_count": 32,
   "id": "0a5e852c-e5ad-4c8b-bfd4-aa151ab6a3ba",
   "metadata": {
    "tags": []
   },
   "outputs": [
    {
     "name": "stdin",
     "output_type": "stream",
     "text": [
      "Type your band.  weezer\n"
     ]
    },
    {
     "name": "stdout",
     "output_type": "stream",
     "text": [
      "{\n",
      "  \"resultCount\": 1,\n",
      "  \"results\": [\n",
      "    {\n",
      "      \"wrapperType\": \"track\",\n",
      "      \"kind\": \"song\",\n",
      "      \"artistId\": 115234,\n",
      "      \"collectionId\": 1440878798,\n",
      "      \"trackId\": 1440879325,\n",
      "      \"artistName\": \"Weezer\",\n",
      "      \"collectionName\": \"Weezer\",\n",
      "      \"trackName\": \"Buddy Holly\",\n",
      "      \"collectionCensoredName\": \"Weezer\",\n",
      "      \"trackCensoredName\": \"Buddy Holly\",\n",
      "      \"artistViewUrl\": \"https://music.apple.com/us/artist/weezer/115234?uo=4\",\n",
      "      \"collectionViewUrl\": \"https://music.apple.com/us/album/buddy-holly/1440878798?i=1440879325&uo=4\",\n",
      "      \"trackViewUrl\": \"https://music.apple.com/us/album/buddy-holly/1440878798?i=1440879325&uo=4\",\n",
      "      \"previewUrl\": \"https://audio-ssl.itunes.apple.com/itunes-assets/AudioPreview112/v4/f0/ba/a8/f0baa81a-7449-c490-f43a-b5c6e3609e3f/mzaf_3988310882581261442.plus.aac.p.m4a\",\n",
      "      \"artworkUrl30\": \"https://is1-ssl.mzstatic.com/image/thumb/Music125/v4/fc/74/67/fc74674a-1eb0-d50d-33fe-215caee529d1/16UMGIM52971.rgb.jpg/30x30bb.jpg\",\n",
      "      \"artworkUrl60\": \"https://is1-ssl.mzstatic.com/image/thumb/Music125/v4/fc/74/67/fc74674a-1eb0-d50d-33fe-215caee529d1/16UMGIM52971.rgb.jpg/60x60bb.jpg\",\n",
      "      \"artworkUrl100\": \"https://is1-ssl.mzstatic.com/image/thumb/Music125/v4/fc/74/67/fc74674a-1eb0-d50d-33fe-215caee529d1/16UMGIM52971.rgb.jpg/100x100bb.jpg\",\n",
      "      \"collectionPrice\": 10.99,\n",
      "      \"trackPrice\": 1.29,\n",
      "      \"releaseDate\": \"1994-01-01T12:00:00Z\",\n",
      "      \"collectionExplicitness\": \"notExplicit\",\n",
      "      \"trackExplicitness\": \"notExplicit\",\n",
      "      \"discCount\": 1,\n",
      "      \"discNumber\": 1,\n",
      "      \"trackCount\": 10,\n",
      "      \"trackNumber\": 4,\n",
      "      \"trackTimeMillis\": 159587,\n",
      "      \"country\": \"USA\",\n",
      "      \"currency\": \"USD\",\n",
      "      \"primaryGenreName\": \"Pop\",\n",
      "      \"isStreamable\": true\n",
      "    }\n",
      "  ]\n",
      "}\n"
     ]
    }
   ],
   "source": [
    "def main():\n",
    "    url = itunes_search()\n",
    "    print(url)\n",
    "\n",
    "def itunes_search():\n",
    "    import json\n",
    "    import requests\n",
    "    import sys\n",
    "    band = input(\"Type your band. \")\n",
    "            \n",
    "    response = requests.get(\"https://itunes.apple.com/search?entity=song&limit=1&term=\" + band)\n",
    "    return json.dumps(response.json(), indent=2)\n",
    "\n",
    "    \n",
    "main()"
   ]
  },
  {
   "cell_type": "code",
   "execution_count": 40,
   "id": "aaed552a-aad5-4789-8a1a-d5343b307cae",
   "metadata": {
    "tags": []
   },
   "outputs": [
    {
     "name": "stdin",
     "output_type": "stream",
     "text": [
      "Type your band.  OneRepublic\n"
     ]
    },
    {
     "name": "stdout",
     "output_type": "stream",
     "text": [
      "The Fighter (feat. Ryan Tedder)\n",
      "If I Lose Myself\n",
      "Lost Then Found (feat. OneRepublic) [Hidden Track - \"Stone Hearts & Hand Grenades\"]\n",
      "Stranger Things (feat. OneRepublic)\n",
      "Apologize (feat. OneRepublic)\n",
      "Apologize (feat. OneRepublic)\n",
      "OneRepublic\n",
      "Stranger Things (feat. OneRepublic)\n",
      "One Republic Mash-Up\n",
      "I Ain't Worried\n",
      "Lost Then Found (feat. OneRepublic) [Hidden Track - \"Stone Hearts & Hand Grenades\"]\n",
      "Never Let You Go (feat. Ryan Tedder)\n",
      "Apologize (feat. OneRepublic)\n",
      "Eye of the Tiger\n",
      "Connection\n",
      "S.T.O.P (feat. Ryan Tedder)\n",
      "One Republic\n",
      "Stranger Things (feat. OneRepublic)\n",
      "Run\n",
      "I Lived\n"
     ]
    }
   ],
   "source": [
    "def main():\n",
    "    itunes_search()\n",
    "    \n",
    "def itunes_search():\n",
    "    import json\n",
    "    import requests\n",
    "    import sys\n",
    "    band = input(\"Type your band. \")\n",
    "            \n",
    "    response = requests.get(\"https://itunes.apple.com/search?entity=song&limit=20&term=\" + band) # change the limit to see more songs\n",
    "    \n",
    "    o = response.json()\n",
    "    \n",
    "    for result in o[\"results\"]:\n",
    "        print(result[\"trackName\"])\n",
    "\n",
    "    \n",
    "main()"
   ]
  },
  {
   "cell_type": "markdown",
   "id": "2598f4cd-e7d4-46db-a175-035a3fb8e6b8",
   "metadata": {},
   "source": [
    "### Make your own module\n",
    "\n"
   ]
  },
  {
   "cell_type": "code",
   "execution_count": 47,
   "id": "226edec6-3a39-4cf8-84a8-6f73621b95bb",
   "metadata": {
    "tags": []
   },
   "outputs": [
    {
     "name": "stdout",
     "output_type": "stream",
     "text": [
      "hello, world\n",
      "goodbye, world\n"
     ]
    }
   ],
   "source": [
    "def main():\n",
    "    hello(\"world\")\n",
    "    goodbye(\"world\")\n",
    "\n",
    "def hello(name):\n",
    "    print(f\"hello, {name}\")\n",
    "    \n",
    "def goodbye(name):\n",
    "    print(f\"goodbye, {name}\")\n",
    "\n",
    "if __name__ == \"__main__\": # will only run if you run the program itself but not by importing some functions\n",
    "    main()"
   ]
  },
  {
   "cell_type": "code",
   "execution_count": 48,
   "id": "0a253355-2551-4d26-b73c-115575bdaf4c",
   "metadata": {
    "tags": []
   },
   "outputs": [],
   "source": [
    "import sys\n",
    "\n",
    "from sayings import hello # ignoring the main call at the buttom\n",
    "\n",
    "if len(sys.argv) == 2:\n",
    "    hello(sys.argv[1])"
   ]
  },
  {
   "cell_type": "markdown",
   "id": "15fd1a51-1650-499d-aab7-c57a3386c74c",
   "metadata": {},
   "source": [
    "### Unit-Tests\n",
    "\n",
    "Testing the code is very important and a common practice in companies."
   ]
  },
  {
   "cell_type": "code",
   "execution_count": 70,
   "id": "3fec4aba-6c6e-4b8d-912e-13b502bb8424",
   "metadata": {
    "tags": []
   },
   "outputs": [
    {
     "name": "stdin",
     "output_type": "stream",
     "text": [
      "Whats x?  5\n"
     ]
    },
    {
     "name": "stdout",
     "output_type": "stream",
     "text": [
      "x squared is 25\n"
     ]
    }
   ],
   "source": [
    "def main():\n",
    "    x = int(input(\"Whats x? \"))\n",
    "    print(\"x squared is\", square(x))\n",
    "    \n",
    "    \n",
    "def square(n):\n",
    "    return n*n\n",
    "\n",
    "if __name__ == \"__main__\": \n",
    "    main()"
   ]
  },
  {
   "cell_type": "code",
   "execution_count": 71,
   "id": "dcd2b95e-238d-4d5b-b8cd-743a805ea264",
   "metadata": {
    "tags": []
   },
   "outputs": [],
   "source": [
    "# from calculator import square\n",
    "def main():\n",
    "    test_square()\n",
    "\n",
    "\n",
    "def test_square():\n",
    "        if square(2) != 4:\n",
    "            print(\"2 squared was not 4\")\n",
    "        if square(3) != 9:\n",
    "            print(\"3 squared was not 9\")\n",
    "\n",
    "if __name__ == \"__main__\": # makes code more reusable\n",
    "    main()"
   ]
  },
  {
   "cell_type": "code",
   "execution_count": 74,
   "id": "8ce78ce6-96bb-4342-9353-06fb7ae6000f",
   "metadata": {
    "tags": []
   },
   "outputs": [
    {
     "ename": "AssertionError",
     "evalue": "",
     "output_type": "error",
     "traceback": [
      "\u001b[0;31m---------------------------------------------------------------------------\u001b[0m",
      "\u001b[0;31mAssertionError\u001b[0m                            Traceback (most recent call last)",
      "Cell \u001b[0;32mIn[74], line 10\u001b[0m\n\u001b[1;32m      7\u001b[0m         \u001b[38;5;28;01massert\u001b[39;00m square(\u001b[38;5;241m3\u001b[39m) \u001b[38;5;241m==\u001b[39m \u001b[38;5;241m3\u001b[39m \u001b[38;5;66;03m# shows an error if there is one\u001b[39;00m\n\u001b[1;32m      9\u001b[0m \u001b[38;5;28;01mif\u001b[39;00m \u001b[38;5;18m__name__\u001b[39m \u001b[38;5;241m==\u001b[39m \u001b[38;5;124m\"\u001b[39m\u001b[38;5;124m__main__\u001b[39m\u001b[38;5;124m\"\u001b[39m:\n\u001b[0;32m---> 10\u001b[0m     main()\n",
      "Cell \u001b[0;32mIn[74], line 2\u001b[0m, in \u001b[0;36mmain\u001b[0;34m()\u001b[0m\n\u001b[1;32m      1\u001b[0m \u001b[38;5;28;01mdef\u001b[39;00m \u001b[38;5;21mmain\u001b[39m():\n\u001b[0;32m----> 2\u001b[0m     test_square()\n",
      "Cell \u001b[0;32mIn[74], line 7\u001b[0m, in \u001b[0;36mtest_square\u001b[0;34m()\u001b[0m\n\u001b[1;32m      5\u001b[0m \u001b[38;5;28;01mdef\u001b[39;00m \u001b[38;5;21mtest_square\u001b[39m():\n\u001b[1;32m      6\u001b[0m         \u001b[38;5;28;01massert\u001b[39;00m square(\u001b[38;5;241m2\u001b[39m) \u001b[38;5;241m==\u001b[39m\u001b[38;5;241m4\u001b[39m\n\u001b[0;32m----> 7\u001b[0m         \u001b[38;5;28;01massert\u001b[39;00m square(\u001b[38;5;241m3\u001b[39m) \u001b[38;5;241m==\u001b[39m \u001b[38;5;241m3\u001b[39m\n",
      "\u001b[0;31mAssertionError\u001b[0m: "
     ]
    }
   ],
   "source": [
    "def main():\n",
    "    test_square()\n",
    "\n",
    "\n",
    "def test_square():\n",
    "        assert square(2) ==4\n",
    "        assert square(3) == 3 # shows an error if there is one\n",
    "\n",
    "if __name__ == \"__main__\":\n",
    "    main()"
   ]
  },
  {
   "cell_type": "code",
   "execution_count": 77,
   "id": "dad32bdb-0e21-4afe-b5ef-3157bddcd919",
   "metadata": {
    "tags": []
   },
   "outputs": [],
   "source": [
    "def main():\n",
    "    test_square()\n",
    "\n",
    "\n",
    "def test_square():\n",
    "        try:\n",
    "            assert square(2) ==4\n",
    "        except AssertionError:\n",
    "            print(\"2 squared was not 4\")\n",
    "        try:\n",
    "            assert square(3) == 9\n",
    "        except AssertionError:\n",
    "            print(\"3 squared was not 9\")\n",
    "\n",
    "if __name__ == \"__main__\":\n",
    "    main()"
   ]
  },
  {
   "cell_type": "code",
   "execution_count": 78,
   "id": "13cb2782-5282-422e-a3c3-f84766b38510",
   "metadata": {
    "tags": []
   },
   "outputs": [],
   "source": [
    "def main():\n",
    "    test_square()\n",
    "\n",
    "\n",
    "def test_square():\n",
    "        try:\n",
    "            assert square(-2) ==4\n",
    "        except AssertionError:\n",
    "            print(\"-2 squared was not 4\")\n",
    "        try:\n",
    "            assert square(-3) == 9\n",
    "        except AssertionError:\n",
    "            print(\"-3 squared was not 9\")\n",
    "        try:\n",
    "            assert square(0) == 0\n",
    "        except AssertionError:\n",
    "            print(\"0 squared was not 0\")\n",
    "\n",
    "if __name__ == \"__main__\":\n",
    "    main()"
   ]
  },
  {
   "cell_type": "markdown",
   "id": "a33482d3-a6e1-4c38-b14a-3d13a5072cdd",
   "metadata": {},
   "source": [
    "#### Pytest\n",
    "\n",
    "is automating the process of try and except and shows the output more userfriendly\n",
    "\n",
    "runnig in the terminal: pytest test_calculator.py\n",
    "- watch for the path or the location of your program you want to test"
   ]
  },
  {
   "cell_type": "code",
   "execution_count": 79,
   "id": "d1bb462c-7f1b-4bdf-8af3-6f485713f16c",
   "metadata": {
    "tags": []
   },
   "outputs": [],
   "source": [
    "# from calculator import square\n",
    "\n",
    "def test_square(): # convention test_yourprogram\n",
    "    assert square(2) == 4\n",
    "    assert square(3) == 9\n",
    "    assert square(-2) == 4\n",
    "    assert square(-3) == 9\n",
    "    assert square(0) == 0 # improve with using a list for values"
   ]
  },
  {
   "cell_type": "code",
   "execution_count": 81,
   "id": "7beedd2a-514b-4e39-b7d2-04cdbdeb3c48",
   "metadata": {
    "tags": []
   },
   "outputs": [
    {
     "data": {
      "text/plain": [
       "'06:31:00'"
      ]
     },
     "execution_count": 81,
     "metadata": {},
     "output_type": "execute_result"
    }
   ],
   "source": [
    "\"06:31:00\""
   ]
  },
  {
   "cell_type": "code",
   "execution_count": null,
   "id": "f374f034-078f-43c3-b2bd-4a725341ecbd",
   "metadata": {},
   "outputs": [],
   "source": []
  },
  {
   "cell_type": "code",
   "execution_count": null,
   "id": "d7cfbb34-57ab-4da4-9e91-04bc5bb7e89b",
   "metadata": {},
   "outputs": [],
   "source": []
  },
  {
   "cell_type": "code",
   "execution_count": null,
   "id": "288557bc-2aa8-41dd-bc2f-eca7ef7c17af",
   "metadata": {},
   "outputs": [],
   "source": []
  },
  {
   "cell_type": "code",
   "execution_count": null,
   "id": "4111f936-e5ea-4e27-bba9-19386c8ec778",
   "metadata": {},
   "outputs": [],
   "source": []
  }
 ],
 "metadata": {
  "kernelspec": {
   "display_name": "Python 3 (ipykernel)",
   "language": "python",
   "name": "python3"
  },
  "language_info": {
   "codemirror_mode": {
    "name": "ipython",
    "version": 3
   },
   "file_extension": ".py",
   "mimetype": "text/x-python",
   "name": "python",
   "nbconvert_exporter": "python",
   "pygments_lexer": "ipython3",
   "version": "3.11.5"
  }
 },
 "nbformat": 4,
 "nbformat_minor": 5
}
